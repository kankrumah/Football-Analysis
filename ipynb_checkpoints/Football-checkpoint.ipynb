{
 "cells": [
  {
   "cell_type": "markdown",
   "metadata": {},
   "source": [
    "### Imports"
   ]
  },
  {
   "cell_type": "code",
   "execution_count": 48,
   "metadata": {},
   "outputs": [
    {
     "name": "stdout",
     "output_type": "stream",
     "text": [
      "Requirement already satisfied: plotly in c:\\users\\kwame.nkrumah\\appdata\\local\\continuum\\anaconda3\\lib\\site-packages (4.1.1)\n",
      "Requirement already satisfied: retrying>=1.3.3 in c:\\users\\kwame.nkrumah\\appdata\\local\\continuum\\anaconda3\\lib\\site-packages (from plotly) (1.3.3)\n",
      "Requirement already satisfied: six in c:\\users\\kwame.nkrumah\\appdata\\local\\continuum\\anaconda3\\lib\\site-packages (from plotly) (1.12.0)\n"
     ]
    }
   ],
   "source": [
    "!pip install plotly"
   ]
  },
  {
   "cell_type": "code",
   "execution_count": 49,
   "metadata": {},
   "outputs": [
    {
     "name": "stdout",
     "output_type": "stream",
     "text": [
      "Numpy Version: 1.16.4\n",
      "Pandas Version: 0.24.2\n",
      "Plotly Version: 4.1.1\n"
     ]
    }
   ],
   "source": [
    "# For Data Handling\n",
    "import numpy as np\n",
    "import pandas as pd\n",
    "\n",
    "import matplotlib.pyplot as plt\n",
    "\n",
    "import plotly\n",
    "import plotly.offline as po\n",
    "import plotly.graph_objs as go\n",
    "\n",
    "print(\"Numpy Version:\", np.__version__)\n",
    "print(\"Pandas Version:\", pd.__version__)\n",
    "print(\"Plotly Version:\", plotly.__version__)"
   ]
  },
  {
   "cell_type": "markdown",
   "metadata": {},
   "source": [
    "### Loading Data"
   ]
  },
  {
   "cell_type": "code",
   "execution_count": 50,
   "metadata": {},
   "outputs": [],
   "source": [
    "data = pd.read_csv('data.csv', low_memory = False)"
   ]
  },
  {
   "cell_type": "markdown",
   "metadata": {},
   "source": [
    "### Data Description"
   ]
  },
  {
   "cell_type": "code",
   "execution_count": 51,
   "metadata": {},
   "outputs": [],
   "source": [
    "# Dropping Unnecessary Columns\n",
    "custom_cols = [\"custom_props_name_1\", \"custom_props_value_1\", \"custom_props_name_2\", \"custom_props_value_2\", \"custom_props_name_3\", \"custom_props_value_3\", \"custom_props_name_4\", \"custom_props_value_4\", \"custom_props_name_5\", \"custom_props_value_5\", \"custom_props_name_6\", \"custom_props_value_6\", \"custom_props_name_7\", \"custom_props_value_7\", \"custom_props_name_8\", \"custom_props_value_8\", \"custom_props_name_9\", \"custom_props_value_9\", \"custom_props_name_10\", \"custom_props_value_10\", \"custom_props_name_11\", \"custom_props_value_11\", \"custom_props_name_12\", \"custom_props_value_12\", \"custom_props_name_13\", \"custom_props_value_13\", \"custom_props_name_14\", \"custom_props_value_14\", \"custom_props_name_15\", \"custom_props_value_15\", \"custom_props_name_16\", \"custom_props_value_16\", \"custom_props_name_17\", \"custom_props_value_17\", \"custom_props_name_18\", \"custom_props_value_18\", \"custom_props_name_19\", \"custom_props_value_19\", \"custom_props_name_20\", \"custom_props_value_20\", \"custom_props_name_21\", \"custom_props_value_21\", \"custom_props_name_22\", \"custom_props_value_22\", \"custom_props_name_23\", \"custom_props_value_23\", \"custom_props_name_24\", \"custom_props_value_24\", \"custom_props_name_25\", \"custom_props_value_25\", \"custom_props_name_26\", \"custom_props_value_26\", \"custom_props_name_27\", \"custom_props_value_27\", \"custom_props_name_28\", \"custom_props_value_28\", \"custom_props_name_29\", \"custom_props_value_29\", \"custom_props_name_30\", \"custom_props_value_30\"]\n",
    "data.drop(custom_cols, axis = 1, inplace = True)\n",
    "\n",
    "data.dropna(axis = 1, how = 'all', inplace = True)"
   ]
  },
  {
   "cell_type": "code",
   "execution_count": 52,
   "metadata": {},
   "outputs": [
    {
     "data": {
      "text/plain": [
       "(95954, 43)"
      ]
     },
     "execution_count": 52,
     "metadata": {},
     "output_type": "execute_result"
    }
   ],
   "source": [
    "data.shape"
   ]
  },
  {
   "cell_type": "code",
   "execution_count": 53,
   "metadata": {},
   "outputs": [
    {
     "data": {
      "text/plain": [
       "server_received_time          object\n",
       "app                            int64\n",
       "device_carrier                object\n",
       "$schema                        int64\n",
       "city                          object\n",
       "user_id                      float64\n",
       "uuid                          object\n",
       "event_time                    object\n",
       "platform                      object\n",
       "os_version                    object\n",
       "amplitude_id                   int64\n",
       "processed_time                object\n",
       "user_creation_time            object\n",
       "version_name                  object\n",
       "ip_address                    object\n",
       "dma                           object\n",
       "group_properties              object\n",
       "user_properties               object\n",
       "client_upload_time            object\n",
       "$insert_id                    object\n",
       "event_type                    object\n",
       "library                       object\n",
       "amplitude_attribution_ids     object\n",
       "device_type                   object\n",
       "device_manufacturer           object\n",
       "start_version                 object\n",
       "server_upload_time            object\n",
       "event_id                       int64\n",
       "os_name                       object\n",
       "amplitude_event_type          object\n",
       "device_brand                  object\n",
       "groups                        object\n",
       "event_properties              object\n",
       "data                          object\n",
       "device_id                     object\n",
       "language                      object\n",
       "device_model                  object\n",
       "country                       object\n",
       "region                        object\n",
       "is_attribution_event            bool\n",
       "session_id                     int64\n",
       "device_family                 object\n",
       "client_event_time             object\n",
       "dtype: object"
      ]
     },
     "execution_count": 53,
     "metadata": {},
     "output_type": "execute_result"
    }
   ],
   "source": [
    "data.dtypes"
   ]
  },
  {
   "cell_type": "code",
   "execution_count": 54,
   "metadata": {},
   "outputs": [
    {
     "data": {
      "text/html": [
       "<div>\n",
       "<style scoped>\n",
       "    .dataframe tbody tr th:only-of-type {\n",
       "        vertical-align: middle;\n",
       "    }\n",
       "\n",
       "    .dataframe tbody tr th {\n",
       "        vertical-align: top;\n",
       "    }\n",
       "\n",
       "    .dataframe thead th {\n",
       "        text-align: right;\n",
       "    }\n",
       "</style>\n",
       "<table border=\"1\" class=\"dataframe\">\n",
       "  <thead>\n",
       "    <tr style=\"text-align: right;\">\n",
       "      <th></th>\n",
       "      <th>server_received_time</th>\n",
       "      <th>app</th>\n",
       "      <th>device_carrier</th>\n",
       "      <th>$schema</th>\n",
       "      <th>city</th>\n",
       "      <th>user_id</th>\n",
       "      <th>uuid</th>\n",
       "      <th>event_time</th>\n",
       "      <th>platform</th>\n",
       "      <th>os_version</th>\n",
       "      <th>...</th>\n",
       "      <th>data</th>\n",
       "      <th>device_id</th>\n",
       "      <th>language</th>\n",
       "      <th>device_model</th>\n",
       "      <th>country</th>\n",
       "      <th>region</th>\n",
       "      <th>is_attribution_event</th>\n",
       "      <th>session_id</th>\n",
       "      <th>device_family</th>\n",
       "      <th>client_event_time</th>\n",
       "    </tr>\n",
       "  </thead>\n",
       "  <tbody>\n",
       "    <tr>\n",
       "      <th>0</th>\n",
       "      <td>2018-12-01 00:01:23.244000</td>\n",
       "      <td>205075</td>\n",
       "      <td>giffgaff</td>\n",
       "      <td>12</td>\n",
       "      <td>Redhill</td>\n",
       "      <td>78.0</td>\n",
       "      <td>4eff65de-f4fc-11e8-9f8a-0a7f5cbb648e</td>\n",
       "      <td>2018-11-30 17:00:36.352000</td>\n",
       "      <td>iOS</td>\n",
       "      <td>10.0.2</td>\n",
       "      <td>...</td>\n",
       "      <td>{}</td>\n",
       "      <td>4730B44F-1164-4714-8C35-E9AD6DD70C6B</td>\n",
       "      <td>English</td>\n",
       "      <td>iPhone 5s</td>\n",
       "      <td>United Kingdom</td>\n",
       "      <td>Surrey</td>\n",
       "      <td>False</td>\n",
       "      <td>1543597162965</td>\n",
       "      <td>Apple iPhone</td>\n",
       "      <td>2018-11-30 17:00:35.594000</td>\n",
       "    </tr>\n",
       "    <tr>\n",
       "      <th>1</th>\n",
       "      <td>2018-12-01 00:01:23.244000</td>\n",
       "      <td>205075</td>\n",
       "      <td>giffgaff</td>\n",
       "      <td>12</td>\n",
       "      <td>Redhill</td>\n",
       "      <td>78.0</td>\n",
       "      <td>4eff79ac-f4fc-11e8-9f8a-0a7f5cbb648e</td>\n",
       "      <td>2018-12-01 00:00:52.372000</td>\n",
       "      <td>iOS</td>\n",
       "      <td>10.0.2</td>\n",
       "      <td>...</td>\n",
       "      <td>{}</td>\n",
       "      <td>4730B44F-1164-4714-8C35-E9AD6DD70C6B</td>\n",
       "      <td>English</td>\n",
       "      <td>iPhone 5s</td>\n",
       "      <td>United Kingdom</td>\n",
       "      <td>Surrey</td>\n",
       "      <td>False</td>\n",
       "      <td>1543622451614</td>\n",
       "      <td>Apple iPhone</td>\n",
       "      <td>2018-12-01 00:00:51.614000</td>\n",
       "    </tr>\n",
       "    <tr>\n",
       "      <th>2</th>\n",
       "      <td>2018-12-01 00:01:23.244000</td>\n",
       "      <td>205075</td>\n",
       "      <td>giffgaff</td>\n",
       "      <td>12</td>\n",
       "      <td>Redhill</td>\n",
       "      <td>78.0</td>\n",
       "      <td>4eff8fa0-f4fc-11e8-9f8a-0a7f5cbb648e</td>\n",
       "      <td>2018-12-01 00:00:59.251000</td>\n",
       "      <td>iOS</td>\n",
       "      <td>10.0.2</td>\n",
       "      <td>...</td>\n",
       "      <td>{}</td>\n",
       "      <td>4730B44F-1164-4714-8C35-E9AD6DD70C6B</td>\n",
       "      <td>English</td>\n",
       "      <td>iPhone 5s</td>\n",
       "      <td>United Kingdom</td>\n",
       "      <td>Surrey</td>\n",
       "      <td>False</td>\n",
       "      <td>1543622451614</td>\n",
       "      <td>Apple iPhone</td>\n",
       "      <td>2018-12-01 00:00:58.493000</td>\n",
       "    </tr>\n",
       "    <tr>\n",
       "      <th>3</th>\n",
       "      <td>2018-12-01 00:01:23.244000</td>\n",
       "      <td>205075</td>\n",
       "      <td>giffgaff</td>\n",
       "      <td>12</td>\n",
       "      <td>Redhill</td>\n",
       "      <td>78.0</td>\n",
       "      <td>4effa634-f4fc-11e8-9f8a-0a7f5cbb648e</td>\n",
       "      <td>2018-12-01 00:01:07.112000</td>\n",
       "      <td>iOS</td>\n",
       "      <td>10.0.2</td>\n",
       "      <td>...</td>\n",
       "      <td>{}</td>\n",
       "      <td>4730B44F-1164-4714-8C35-E9AD6DD70C6B</td>\n",
       "      <td>English</td>\n",
       "      <td>iPhone 5s</td>\n",
       "      <td>United Kingdom</td>\n",
       "      <td>Surrey</td>\n",
       "      <td>False</td>\n",
       "      <td>1543622451614</td>\n",
       "      <td>Apple iPhone</td>\n",
       "      <td>2018-12-01 00:01:06.354000</td>\n",
       "    </tr>\n",
       "    <tr>\n",
       "      <th>4</th>\n",
       "      <td>2018-12-01 00:10:35.942000</td>\n",
       "      <td>205075</td>\n",
       "      <td>CREDO</td>\n",
       "      <td>12</td>\n",
       "      <td>Austin</td>\n",
       "      <td>1855.0</td>\n",
       "      <td>87aed38c-f4fd-11e8-b143-0abd79b17338</td>\n",
       "      <td>2018-11-30 19:42:08.997000</td>\n",
       "      <td>iOS</td>\n",
       "      <td>12.1</td>\n",
       "      <td>...</td>\n",
       "      <td>{}</td>\n",
       "      <td>3E400937-1F50-406C-AE29-7AE83E759C2B</td>\n",
       "      <td>English</td>\n",
       "      <td>iPhone 7 Plus</td>\n",
       "      <td>United States</td>\n",
       "      <td>Texas</td>\n",
       "      <td>False</td>\n",
       "      <td>1543606629811</td>\n",
       "      <td>Apple iPhone</td>\n",
       "      <td>2018-11-30 19:42:08.532000</td>\n",
       "    </tr>\n",
       "  </tbody>\n",
       "</table>\n",
       "<p>5 rows × 43 columns</p>\n",
       "</div>"
      ],
      "text/plain": [
       "         server_received_time     app device_carrier  $schema     city  \\\n",
       "0  2018-12-01 00:01:23.244000  205075       giffgaff       12  Redhill   \n",
       "1  2018-12-01 00:01:23.244000  205075       giffgaff       12  Redhill   \n",
       "2  2018-12-01 00:01:23.244000  205075       giffgaff       12  Redhill   \n",
       "3  2018-12-01 00:01:23.244000  205075       giffgaff       12  Redhill   \n",
       "4  2018-12-01 00:10:35.942000  205075          CREDO       12   Austin   \n",
       "\n",
       "   user_id                                  uuid                  event_time  \\\n",
       "0     78.0  4eff65de-f4fc-11e8-9f8a-0a7f5cbb648e  2018-11-30 17:00:36.352000   \n",
       "1     78.0  4eff79ac-f4fc-11e8-9f8a-0a7f5cbb648e  2018-12-01 00:00:52.372000   \n",
       "2     78.0  4eff8fa0-f4fc-11e8-9f8a-0a7f5cbb648e  2018-12-01 00:00:59.251000   \n",
       "3     78.0  4effa634-f4fc-11e8-9f8a-0a7f5cbb648e  2018-12-01 00:01:07.112000   \n",
       "4   1855.0  87aed38c-f4fd-11e8-b143-0abd79b17338  2018-11-30 19:42:08.997000   \n",
       "\n",
       "  platform os_version  ...  data                             device_id  \\\n",
       "0      iOS     10.0.2  ...    {}  4730B44F-1164-4714-8C35-E9AD6DD70C6B   \n",
       "1      iOS     10.0.2  ...    {}  4730B44F-1164-4714-8C35-E9AD6DD70C6B   \n",
       "2      iOS     10.0.2  ...    {}  4730B44F-1164-4714-8C35-E9AD6DD70C6B   \n",
       "3      iOS     10.0.2  ...    {}  4730B44F-1164-4714-8C35-E9AD6DD70C6B   \n",
       "4      iOS       12.1  ...    {}  3E400937-1F50-406C-AE29-7AE83E759C2B   \n",
       "\n",
       "  language   device_model         country  region is_attribution_event  \\\n",
       "0  English      iPhone 5s  United Kingdom  Surrey                False   \n",
       "1  English      iPhone 5s  United Kingdom  Surrey                False   \n",
       "2  English      iPhone 5s  United Kingdom  Surrey                False   \n",
       "3  English      iPhone 5s  United Kingdom  Surrey                False   \n",
       "4  English  iPhone 7 Plus   United States   Texas                False   \n",
       "\n",
       "      session_id device_family           client_event_time  \n",
       "0  1543597162965  Apple iPhone  2018-11-30 17:00:35.594000  \n",
       "1  1543622451614  Apple iPhone  2018-12-01 00:00:51.614000  \n",
       "2  1543622451614  Apple iPhone  2018-12-01 00:00:58.493000  \n",
       "3  1543622451614  Apple iPhone  2018-12-01 00:01:06.354000  \n",
       "4  1543606629811  Apple iPhone  2018-11-30 19:42:08.532000  \n",
       "\n",
       "[5 rows x 43 columns]"
      ]
     },
     "execution_count": 54,
     "metadata": {},
     "output_type": "execute_result"
    }
   ],
   "source": [
    "data.head(5)"
   ]
  },
  {
   "cell_type": "code",
   "execution_count": 55,
   "metadata": {},
   "outputs": [
    {
     "data": {
      "text/html": [
       "<div>\n",
       "<style scoped>\n",
       "    .dataframe tbody tr th:only-of-type {\n",
       "        vertical-align: middle;\n",
       "    }\n",
       "\n",
       "    .dataframe tbody tr th {\n",
       "        vertical-align: top;\n",
       "    }\n",
       "\n",
       "    .dataframe thead th {\n",
       "        text-align: right;\n",
       "    }\n",
       "</style>\n",
       "<table border=\"1\" class=\"dataframe\">\n",
       "  <thead>\n",
       "    <tr style=\"text-align: right;\">\n",
       "      <th></th>\n",
       "      <th>count</th>\n",
       "      <th>unique</th>\n",
       "      <th>top</th>\n",
       "      <th>freq</th>\n",
       "      <th>mean</th>\n",
       "      <th>std</th>\n",
       "      <th>min</th>\n",
       "      <th>25%</th>\n",
       "      <th>50%</th>\n",
       "      <th>75%</th>\n",
       "      <th>max</th>\n",
       "    </tr>\n",
       "  </thead>\n",
       "  <tbody>\n",
       "    <tr>\n",
       "      <th>server_received_time</th>\n",
       "      <td>95954</td>\n",
       "      <td>50190</td>\n",
       "      <td>2018-12-15 16:05:13.677000</td>\n",
       "      <td>42</td>\n",
       "      <td>NaN</td>\n",
       "      <td>NaN</td>\n",
       "      <td>NaN</td>\n",
       "      <td>NaN</td>\n",
       "      <td>NaN</td>\n",
       "      <td>NaN</td>\n",
       "      <td>NaN</td>\n",
       "    </tr>\n",
       "    <tr>\n",
       "      <th>app</th>\n",
       "      <td>95954</td>\n",
       "      <td>NaN</td>\n",
       "      <td>NaN</td>\n",
       "      <td>NaN</td>\n",
       "      <td>205075</td>\n",
       "      <td>0</td>\n",
       "      <td>205075</td>\n",
       "      <td>205075</td>\n",
       "      <td>205075</td>\n",
       "      <td>205075</td>\n",
       "      <td>205075</td>\n",
       "    </tr>\n",
       "    <tr>\n",
       "      <th>device_carrier</th>\n",
       "      <td>91951</td>\n",
       "      <td>470</td>\n",
       "      <td>EE</td>\n",
       "      <td>14293</td>\n",
       "      <td>NaN</td>\n",
       "      <td>NaN</td>\n",
       "      <td>NaN</td>\n",
       "      <td>NaN</td>\n",
       "      <td>NaN</td>\n",
       "      <td>NaN</td>\n",
       "      <td>NaN</td>\n",
       "    </tr>\n",
       "    <tr>\n",
       "      <th>$schema</th>\n",
       "      <td>95954</td>\n",
       "      <td>NaN</td>\n",
       "      <td>NaN</td>\n",
       "      <td>NaN</td>\n",
       "      <td>12</td>\n",
       "      <td>0</td>\n",
       "      <td>12</td>\n",
       "      <td>12</td>\n",
       "      <td>12</td>\n",
       "      <td>12</td>\n",
       "      <td>12</td>\n",
       "    </tr>\n",
       "    <tr>\n",
       "      <th>city</th>\n",
       "      <td>91806</td>\n",
       "      <td>1702</td>\n",
       "      <td>London</td>\n",
       "      <td>7487</td>\n",
       "      <td>NaN</td>\n",
       "      <td>NaN</td>\n",
       "      <td>NaN</td>\n",
       "      <td>NaN</td>\n",
       "      <td>NaN</td>\n",
       "      <td>NaN</td>\n",
       "      <td>NaN</td>\n",
       "    </tr>\n",
       "    <tr>\n",
       "      <th>user_id</th>\n",
       "      <td>71412</td>\n",
       "      <td>NaN</td>\n",
       "      <td>NaN</td>\n",
       "      <td>NaN</td>\n",
       "      <td>5015.77</td>\n",
       "      <td>2214.76</td>\n",
       "      <td>20</td>\n",
       "      <td>3872</td>\n",
       "      <td>5639</td>\n",
       "      <td>6609</td>\n",
       "      <td>8008</td>\n",
       "    </tr>\n",
       "    <tr>\n",
       "      <th>uuid</th>\n",
       "      <td>95954</td>\n",
       "      <td>95954</td>\n",
       "      <td>86c4cd44-20d3-11e9-b517-022344552586</td>\n",
       "      <td>1</td>\n",
       "      <td>NaN</td>\n",
       "      <td>NaN</td>\n",
       "      <td>NaN</td>\n",
       "      <td>NaN</td>\n",
       "      <td>NaN</td>\n",
       "      <td>NaN</td>\n",
       "      <td>NaN</td>\n",
       "    </tr>\n",
       "    <tr>\n",
       "      <th>event_time</th>\n",
       "      <td>95954</td>\n",
       "      <td>87803</td>\n",
       "      <td>2019-01-17 15:04:47.195000</td>\n",
       "      <td>5</td>\n",
       "      <td>NaN</td>\n",
       "      <td>NaN</td>\n",
       "      <td>NaN</td>\n",
       "      <td>NaN</td>\n",
       "      <td>NaN</td>\n",
       "      <td>NaN</td>\n",
       "      <td>NaN</td>\n",
       "    </tr>\n",
       "    <tr>\n",
       "      <th>platform</th>\n",
       "      <td>95954</td>\n",
       "      <td>2</td>\n",
       "      <td>Android</td>\n",
       "      <td>57640</td>\n",
       "      <td>NaN</td>\n",
       "      <td>NaN</td>\n",
       "      <td>NaN</td>\n",
       "      <td>NaN</td>\n",
       "      <td>NaN</td>\n",
       "      <td>NaN</td>\n",
       "      <td>NaN</td>\n",
       "    </tr>\n",
       "    <tr>\n",
       "      <th>os_version</th>\n",
       "      <td>95954</td>\n",
       "      <td>47</td>\n",
       "      <td>8.0.0</td>\n",
       "      <td>22985</td>\n",
       "      <td>NaN</td>\n",
       "      <td>NaN</td>\n",
       "      <td>NaN</td>\n",
       "      <td>NaN</td>\n",
       "      <td>NaN</td>\n",
       "      <td>NaN</td>\n",
       "      <td>NaN</td>\n",
       "    </tr>\n",
       "    <tr>\n",
       "      <th>amplitude_id</th>\n",
       "      <td>95954</td>\n",
       "      <td>NaN</td>\n",
       "      <td>NaN</td>\n",
       "      <td>NaN</td>\n",
       "      <td>7.5232e+10</td>\n",
       "      <td>4.79991e+09</td>\n",
       "      <td>5.89772e+10</td>\n",
       "      <td>7.46903e+10</td>\n",
       "      <td>7.66353e+10</td>\n",
       "      <td>7.80779e+10</td>\n",
       "      <td>8.15516e+10</td>\n",
       "    </tr>\n",
       "    <tr>\n",
       "      <th>processed_time</th>\n",
       "      <td>95954</td>\n",
       "      <td>95954</td>\n",
       "      <td>2019-01-14 21:28:54.022540</td>\n",
       "      <td>1</td>\n",
       "      <td>NaN</td>\n",
       "      <td>NaN</td>\n",
       "      <td>NaN</td>\n",
       "      <td>NaN</td>\n",
       "      <td>NaN</td>\n",
       "      <td>NaN</td>\n",
       "      <td>NaN</td>\n",
       "    </tr>\n",
       "    <tr>\n",
       "      <th>user_creation_time</th>\n",
       "      <td>95954</td>\n",
       "      <td>7860</td>\n",
       "      <td>2018-12-06 19:45:48.620000</td>\n",
       "      <td>4420</td>\n",
       "      <td>NaN</td>\n",
       "      <td>NaN</td>\n",
       "      <td>NaN</td>\n",
       "      <td>NaN</td>\n",
       "      <td>NaN</td>\n",
       "      <td>NaN</td>\n",
       "      <td>NaN</td>\n",
       "    </tr>\n",
       "    <tr>\n",
       "      <th>version_name</th>\n",
       "      <td>95954</td>\n",
       "      <td>18</td>\n",
       "      <td>1.6.1</td>\n",
       "      <td>56767</td>\n",
       "      <td>NaN</td>\n",
       "      <td>NaN</td>\n",
       "      <td>NaN</td>\n",
       "      <td>NaN</td>\n",
       "      <td>NaN</td>\n",
       "      <td>NaN</td>\n",
       "      <td>NaN</td>\n",
       "    </tr>\n",
       "    <tr>\n",
       "      <th>ip_address</th>\n",
       "      <td>95954</td>\n",
       "      <td>11444</td>\n",
       "      <td>185.52.109.17</td>\n",
       "      <td>4953</td>\n",
       "      <td>NaN</td>\n",
       "      <td>NaN</td>\n",
       "      <td>NaN</td>\n",
       "      <td>NaN</td>\n",
       "      <td>NaN</td>\n",
       "      <td>NaN</td>\n",
       "      <td>NaN</td>\n",
       "    </tr>\n",
       "    <tr>\n",
       "      <th>dma</th>\n",
       "      <td>5058</td>\n",
       "      <td>96</td>\n",
       "      <td>Austin, TX</td>\n",
       "      <td>942</td>\n",
       "      <td>NaN</td>\n",
       "      <td>NaN</td>\n",
       "      <td>NaN</td>\n",
       "      <td>NaN</td>\n",
       "      <td>NaN</td>\n",
       "      <td>NaN</td>\n",
       "      <td>NaN</td>\n",
       "    </tr>\n",
       "    <tr>\n",
       "      <th>group_properties</th>\n",
       "      <td>95954</td>\n",
       "      <td>1</td>\n",
       "      <td>{}</td>\n",
       "      <td>95954</td>\n",
       "      <td>NaN</td>\n",
       "      <td>NaN</td>\n",
       "      <td>NaN</td>\n",
       "      <td>NaN</td>\n",
       "      <td>NaN</td>\n",
       "      <td>NaN</td>\n",
       "      <td>NaN</td>\n",
       "    </tr>\n",
       "    <tr>\n",
       "      <th>user_properties</th>\n",
       "      <td>95954</td>\n",
       "      <td>10978</td>\n",
       "      <td>{}</td>\n",
       "      <td>24598</td>\n",
       "      <td>NaN</td>\n",
       "      <td>NaN</td>\n",
       "      <td>NaN</td>\n",
       "      <td>NaN</td>\n",
       "      <td>NaN</td>\n",
       "      <td>NaN</td>\n",
       "      <td>NaN</td>\n",
       "    </tr>\n",
       "    <tr>\n",
       "      <th>client_upload_time</th>\n",
       "      <td>95954</td>\n",
       "      <td>50189</td>\n",
       "      <td>2018-12-15 16:05:10.385000</td>\n",
       "      <td>42</td>\n",
       "      <td>NaN</td>\n",
       "      <td>NaN</td>\n",
       "      <td>NaN</td>\n",
       "      <td>NaN</td>\n",
       "      <td>NaN</td>\n",
       "      <td>NaN</td>\n",
       "      <td>NaN</td>\n",
       "    </tr>\n",
       "    <tr>\n",
       "      <th>$insert_id</th>\n",
       "      <td>95954</td>\n",
       "      <td>95922</td>\n",
       "      <td>91617606-59CC-462E-9D1A-A85B1031CBFD</td>\n",
       "      <td>2</td>\n",
       "      <td>NaN</td>\n",
       "      <td>NaN</td>\n",
       "      <td>NaN</td>\n",
       "      <td>NaN</td>\n",
       "      <td>NaN</td>\n",
       "      <td>NaN</td>\n",
       "      <td>NaN</td>\n",
       "    </tr>\n",
       "    <tr>\n",
       "      <th>event_type</th>\n",
       "      <td>95954</td>\n",
       "      <td>44</td>\n",
       "      <td>session_start</td>\n",
       "      <td>19551</td>\n",
       "      <td>NaN</td>\n",
       "      <td>NaN</td>\n",
       "      <td>NaN</td>\n",
       "      <td>NaN</td>\n",
       "      <td>NaN</td>\n",
       "      <td>NaN</td>\n",
       "      <td>NaN</td>\n",
       "    </tr>\n",
       "    <tr>\n",
       "      <th>library</th>\n",
       "      <td>95954</td>\n",
       "      <td>4</td>\n",
       "      <td>amplitude-android/2.16.0</td>\n",
       "      <td>57134</td>\n",
       "      <td>NaN</td>\n",
       "      <td>NaN</td>\n",
       "      <td>NaN</td>\n",
       "      <td>NaN</td>\n",
       "      <td>NaN</td>\n",
       "      <td>NaN</td>\n",
       "      <td>NaN</td>\n",
       "    </tr>\n",
       "    <tr>\n",
       "      <th>amplitude_attribution_ids</th>\n",
       "      <td>95355</td>\n",
       "      <td>8674</td>\n",
       "      <td>[\"3ffd58a7df54812d5bbcaadef5533527\",\"ea6cfcf0b...</td>\n",
       "      <td>4420</td>\n",
       "      <td>NaN</td>\n",
       "      <td>NaN</td>\n",
       "      <td>NaN</td>\n",
       "      <td>NaN</td>\n",
       "      <td>NaN</td>\n",
       "      <td>NaN</td>\n",
       "      <td>NaN</td>\n",
       "    </tr>\n",
       "    <tr>\n",
       "      <th>device_type</th>\n",
       "      <td>71269</td>\n",
       "      <td>394</td>\n",
       "      <td>Apple iPhone 7</td>\n",
       "      <td>6603</td>\n",
       "      <td>NaN</td>\n",
       "      <td>NaN</td>\n",
       "      <td>NaN</td>\n",
       "      <td>NaN</td>\n",
       "      <td>NaN</td>\n",
       "      <td>NaN</td>\n",
       "      <td>NaN</td>\n",
       "    </tr>\n",
       "    <tr>\n",
       "      <th>device_manufacturer</th>\n",
       "      <td>95954</td>\n",
       "      <td>155</td>\n",
       "      <td>Apple</td>\n",
       "      <td>38314</td>\n",
       "      <td>NaN</td>\n",
       "      <td>NaN</td>\n",
       "      <td>NaN</td>\n",
       "      <td>NaN</td>\n",
       "      <td>NaN</td>\n",
       "      <td>NaN</td>\n",
       "      <td>NaN</td>\n",
       "    </tr>\n",
       "    <tr>\n",
       "      <th>start_version</th>\n",
       "      <td>95954</td>\n",
       "      <td>17</td>\n",
       "      <td>1.6.1</td>\n",
       "      <td>52441</td>\n",
       "      <td>NaN</td>\n",
       "      <td>NaN</td>\n",
       "      <td>NaN</td>\n",
       "      <td>NaN</td>\n",
       "      <td>NaN</td>\n",
       "      <td>NaN</td>\n",
       "      <td>NaN</td>\n",
       "    </tr>\n",
       "    <tr>\n",
       "      <th>server_upload_time</th>\n",
       "      <td>95954</td>\n",
       "      <td>50189</td>\n",
       "      <td>2018-12-15 16:05:13.695000</td>\n",
       "      <td>42</td>\n",
       "      <td>NaN</td>\n",
       "      <td>NaN</td>\n",
       "      <td>NaN</td>\n",
       "      <td>NaN</td>\n",
       "      <td>NaN</td>\n",
       "      <td>NaN</td>\n",
       "      <td>NaN</td>\n",
       "    </tr>\n",
       "    <tr>\n",
       "      <th>event_id</th>\n",
       "      <td>95954</td>\n",
       "      <td>NaN</td>\n",
       "      <td>NaN</td>\n",
       "      <td>NaN</td>\n",
       "      <td>307.7</td>\n",
       "      <td>745.918</td>\n",
       "      <td>1</td>\n",
       "      <td>5</td>\n",
       "      <td>19</td>\n",
       "      <td>147</td>\n",
       "      <td>4420</td>\n",
       "    </tr>\n",
       "    <tr>\n",
       "      <th>os_name</th>\n",
       "      <td>95954</td>\n",
       "      <td>2</td>\n",
       "      <td>android</td>\n",
       "      <td>57640</td>\n",
       "      <td>NaN</td>\n",
       "      <td>NaN</td>\n",
       "      <td>NaN</td>\n",
       "      <td>NaN</td>\n",
       "      <td>NaN</td>\n",
       "      <td>NaN</td>\n",
       "      <td>NaN</td>\n",
       "    </tr>\n",
       "    <tr>\n",
       "      <th>amplitude_event_type</th>\n",
       "      <td>31814</td>\n",
       "      <td>2</td>\n",
       "      <td>session_start</td>\n",
       "      <td>19551</td>\n",
       "      <td>NaN</td>\n",
       "      <td>NaN</td>\n",
       "      <td>NaN</td>\n",
       "      <td>NaN</td>\n",
       "      <td>NaN</td>\n",
       "      <td>NaN</td>\n",
       "      <td>NaN</td>\n",
       "    </tr>\n",
       "    <tr>\n",
       "      <th>device_brand</th>\n",
       "      <td>57640</td>\n",
       "      <td>151</td>\n",
       "      <td>samsung</td>\n",
       "      <td>31133</td>\n",
       "      <td>NaN</td>\n",
       "      <td>NaN</td>\n",
       "      <td>NaN</td>\n",
       "      <td>NaN</td>\n",
       "      <td>NaN</td>\n",
       "      <td>NaN</td>\n",
       "      <td>NaN</td>\n",
       "    </tr>\n",
       "    <tr>\n",
       "      <th>groups</th>\n",
       "      <td>95954</td>\n",
       "      <td>1</td>\n",
       "      <td>{}</td>\n",
       "      <td>95954</td>\n",
       "      <td>NaN</td>\n",
       "      <td>NaN</td>\n",
       "      <td>NaN</td>\n",
       "      <td>NaN</td>\n",
       "      <td>NaN</td>\n",
       "      <td>NaN</td>\n",
       "      <td>NaN</td>\n",
       "    </tr>\n",
       "    <tr>\n",
       "      <th>event_properties</th>\n",
       "      <td>95954</td>\n",
       "      <td>21447</td>\n",
       "      <td>{}</td>\n",
       "      <td>42541</td>\n",
       "      <td>NaN</td>\n",
       "      <td>NaN</td>\n",
       "      <td>NaN</td>\n",
       "      <td>NaN</td>\n",
       "      <td>NaN</td>\n",
       "      <td>NaN</td>\n",
       "      <td>NaN</td>\n",
       "    </tr>\n",
       "    <tr>\n",
       "      <th>data</th>\n",
       "      <td>95954</td>\n",
       "      <td>2</td>\n",
       "      <td>{}</td>\n",
       "      <td>88726</td>\n",
       "      <td>NaN</td>\n",
       "      <td>NaN</td>\n",
       "      <td>NaN</td>\n",
       "      <td>NaN</td>\n",
       "      <td>NaN</td>\n",
       "      <td>NaN</td>\n",
       "      <td>NaN</td>\n",
       "    </tr>\n",
       "    <tr>\n",
       "      <th>device_id</th>\n",
       "      <td>95954</td>\n",
       "      <td>7846</td>\n",
       "      <td>0A9852DC-C308-4125-A0B8-44716569FD84</td>\n",
       "      <td>4420</td>\n",
       "      <td>NaN</td>\n",
       "      <td>NaN</td>\n",
       "      <td>NaN</td>\n",
       "      <td>NaN</td>\n",
       "      <td>NaN</td>\n",
       "      <td>NaN</td>\n",
       "      <td>NaN</td>\n",
       "    </tr>\n",
       "    <tr>\n",
       "      <th>language</th>\n",
       "      <td>95952</td>\n",
       "      <td>43</td>\n",
       "      <td>English</td>\n",
       "      <td>87622</td>\n",
       "      <td>NaN</td>\n",
       "      <td>NaN</td>\n",
       "      <td>NaN</td>\n",
       "      <td>NaN</td>\n",
       "      <td>NaN</td>\n",
       "      <td>NaN</td>\n",
       "      <td>NaN</td>\n",
       "    </tr>\n",
       "    <tr>\n",
       "      <th>device_model</th>\n",
       "      <td>95954</td>\n",
       "      <td>1353</td>\n",
       "      <td>iPhone 7</td>\n",
       "      <td>6603</td>\n",
       "      <td>NaN</td>\n",
       "      <td>NaN</td>\n",
       "      <td>NaN</td>\n",
       "      <td>NaN</td>\n",
       "      <td>NaN</td>\n",
       "      <td>NaN</td>\n",
       "      <td>NaN</td>\n",
       "    </tr>\n",
       "    <tr>\n",
       "      <th>country</th>\n",
       "      <td>95938</td>\n",
       "      <td>90</td>\n",
       "      <td>United Kingdom</td>\n",
       "      <td>52680</td>\n",
       "      <td>NaN</td>\n",
       "      <td>NaN</td>\n",
       "      <td>NaN</td>\n",
       "      <td>NaN</td>\n",
       "      <td>NaN</td>\n",
       "      <td>NaN</td>\n",
       "      <td>NaN</td>\n",
       "    </tr>\n",
       "    <tr>\n",
       "      <th>region</th>\n",
       "      <td>92212</td>\n",
       "      <td>512</td>\n",
       "      <td>England</td>\n",
       "      <td>7464</td>\n",
       "      <td>NaN</td>\n",
       "      <td>NaN</td>\n",
       "      <td>NaN</td>\n",
       "      <td>NaN</td>\n",
       "      <td>NaN</td>\n",
       "      <td>NaN</td>\n",
       "      <td>NaN</td>\n",
       "    </tr>\n",
       "    <tr>\n",
       "      <th>is_attribution_event</th>\n",
       "      <td>95954</td>\n",
       "      <td>1</td>\n",
       "      <td>False</td>\n",
       "      <td>95954</td>\n",
       "      <td>NaN</td>\n",
       "      <td>NaN</td>\n",
       "      <td>NaN</td>\n",
       "      <td>NaN</td>\n",
       "      <td>NaN</td>\n",
       "      <td>NaN</td>\n",
       "      <td>NaN</td>\n",
       "    </tr>\n",
       "    <tr>\n",
       "      <th>session_id</th>\n",
       "      <td>95954</td>\n",
       "      <td>NaN</td>\n",
       "      <td>NaN</td>\n",
       "      <td>NaN</td>\n",
       "      <td>1.54617e+12</td>\n",
       "      <td>1.42031e+09</td>\n",
       "      <td>1.53346e+12</td>\n",
       "      <td>1.54505e+12</td>\n",
       "      <td>1.54635e+12</td>\n",
       "      <td>1.54732e+12</td>\n",
       "      <td>1.54913e+12</td>\n",
       "    </tr>\n",
       "    <tr>\n",
       "      <th>device_family</th>\n",
       "      <td>95954</td>\n",
       "      <td>801</td>\n",
       "      <td>Apple iPhone</td>\n",
       "      <td>32070</td>\n",
       "      <td>NaN</td>\n",
       "      <td>NaN</td>\n",
       "      <td>NaN</td>\n",
       "      <td>NaN</td>\n",
       "      <td>NaN</td>\n",
       "      <td>NaN</td>\n",
       "      <td>NaN</td>\n",
       "    </tr>\n",
       "    <tr>\n",
       "      <th>client_event_time</th>\n",
       "      <td>95954</td>\n",
       "      <td>87650</td>\n",
       "      <td>2019-01-16 15:34:10.733000</td>\n",
       "      <td>5</td>\n",
       "      <td>NaN</td>\n",
       "      <td>NaN</td>\n",
       "      <td>NaN</td>\n",
       "      <td>NaN</td>\n",
       "      <td>NaN</td>\n",
       "      <td>NaN</td>\n",
       "      <td>NaN</td>\n",
       "    </tr>\n",
       "  </tbody>\n",
       "</table>\n",
       "</div>"
      ],
      "text/plain": [
       "                           count unique  \\\n",
       "server_received_time       95954  50190   \n",
       "app                        95954    NaN   \n",
       "device_carrier             91951    470   \n",
       "$schema                    95954    NaN   \n",
       "city                       91806   1702   \n",
       "user_id                    71412    NaN   \n",
       "uuid                       95954  95954   \n",
       "event_time                 95954  87803   \n",
       "platform                   95954      2   \n",
       "os_version                 95954     47   \n",
       "amplitude_id               95954    NaN   \n",
       "processed_time             95954  95954   \n",
       "user_creation_time         95954   7860   \n",
       "version_name               95954     18   \n",
       "ip_address                 95954  11444   \n",
       "dma                         5058     96   \n",
       "group_properties           95954      1   \n",
       "user_properties            95954  10978   \n",
       "client_upload_time         95954  50189   \n",
       "$insert_id                 95954  95922   \n",
       "event_type                 95954     44   \n",
       "library                    95954      4   \n",
       "amplitude_attribution_ids  95355   8674   \n",
       "device_type                71269    394   \n",
       "device_manufacturer        95954    155   \n",
       "start_version              95954     17   \n",
       "server_upload_time         95954  50189   \n",
       "event_id                   95954    NaN   \n",
       "os_name                    95954      2   \n",
       "amplitude_event_type       31814      2   \n",
       "device_brand               57640    151   \n",
       "groups                     95954      1   \n",
       "event_properties           95954  21447   \n",
       "data                       95954      2   \n",
       "device_id                  95954   7846   \n",
       "language                   95952     43   \n",
       "device_model               95954   1353   \n",
       "country                    95938     90   \n",
       "region                     92212    512   \n",
       "is_attribution_event       95954      1   \n",
       "session_id                 95954    NaN   \n",
       "device_family              95954    801   \n",
       "client_event_time          95954  87650   \n",
       "\n",
       "                                                                         top  \\\n",
       "server_received_time                              2018-12-15 16:05:13.677000   \n",
       "app                                                                      NaN   \n",
       "device_carrier                                                            EE   \n",
       "$schema                                                                  NaN   \n",
       "city                                                                  London   \n",
       "user_id                                                                  NaN   \n",
       "uuid                                    86c4cd44-20d3-11e9-b517-022344552586   \n",
       "event_time                                        2019-01-17 15:04:47.195000   \n",
       "platform                                                             Android   \n",
       "os_version                                                             8.0.0   \n",
       "amplitude_id                                                             NaN   \n",
       "processed_time                                    2019-01-14 21:28:54.022540   \n",
       "user_creation_time                                2018-12-06 19:45:48.620000   \n",
       "version_name                                                           1.6.1   \n",
       "ip_address                                                     185.52.109.17   \n",
       "dma                                                               Austin, TX   \n",
       "group_properties                                                          {}   \n",
       "user_properties                                                           {}   \n",
       "client_upload_time                                2018-12-15 16:05:10.385000   \n",
       "$insert_id                              91617606-59CC-462E-9D1A-A85B1031CBFD   \n",
       "event_type                                                     session_start   \n",
       "library                                             amplitude-android/2.16.0   \n",
       "amplitude_attribution_ids  [\"3ffd58a7df54812d5bbcaadef5533527\",\"ea6cfcf0b...   \n",
       "device_type                                                   Apple iPhone 7   \n",
       "device_manufacturer                                                    Apple   \n",
       "start_version                                                          1.6.1   \n",
       "server_upload_time                                2018-12-15 16:05:13.695000   \n",
       "event_id                                                                 NaN   \n",
       "os_name                                                              android   \n",
       "amplitude_event_type                                           session_start   \n",
       "device_brand                                                         samsung   \n",
       "groups                                                                    {}   \n",
       "event_properties                                                          {}   \n",
       "data                                                                      {}   \n",
       "device_id                               0A9852DC-C308-4125-A0B8-44716569FD84   \n",
       "language                                                             English   \n",
       "device_model                                                        iPhone 7   \n",
       "country                                                       United Kingdom   \n",
       "region                                                               England   \n",
       "is_attribution_event                                                   False   \n",
       "session_id                                                               NaN   \n",
       "device_family                                                   Apple iPhone   \n",
       "client_event_time                                 2019-01-16 15:34:10.733000   \n",
       "\n",
       "                            freq         mean          std          min  \\\n",
       "server_received_time          42          NaN          NaN          NaN   \n",
       "app                          NaN       205075            0       205075   \n",
       "device_carrier             14293          NaN          NaN          NaN   \n",
       "$schema                      NaN           12            0           12   \n",
       "city                        7487          NaN          NaN          NaN   \n",
       "user_id                      NaN      5015.77      2214.76           20   \n",
       "uuid                           1          NaN          NaN          NaN   \n",
       "event_time                     5          NaN          NaN          NaN   \n",
       "platform                   57640          NaN          NaN          NaN   \n",
       "os_version                 22985          NaN          NaN          NaN   \n",
       "amplitude_id                 NaN   7.5232e+10  4.79991e+09  5.89772e+10   \n",
       "processed_time                 1          NaN          NaN          NaN   \n",
       "user_creation_time          4420          NaN          NaN          NaN   \n",
       "version_name               56767          NaN          NaN          NaN   \n",
       "ip_address                  4953          NaN          NaN          NaN   \n",
       "dma                          942          NaN          NaN          NaN   \n",
       "group_properties           95954          NaN          NaN          NaN   \n",
       "user_properties            24598          NaN          NaN          NaN   \n",
       "client_upload_time            42          NaN          NaN          NaN   \n",
       "$insert_id                     2          NaN          NaN          NaN   \n",
       "event_type                 19551          NaN          NaN          NaN   \n",
       "library                    57134          NaN          NaN          NaN   \n",
       "amplitude_attribution_ids   4420          NaN          NaN          NaN   \n",
       "device_type                 6603          NaN          NaN          NaN   \n",
       "device_manufacturer        38314          NaN          NaN          NaN   \n",
       "start_version              52441          NaN          NaN          NaN   \n",
       "server_upload_time            42          NaN          NaN          NaN   \n",
       "event_id                     NaN        307.7      745.918            1   \n",
       "os_name                    57640          NaN          NaN          NaN   \n",
       "amplitude_event_type       19551          NaN          NaN          NaN   \n",
       "device_brand               31133          NaN          NaN          NaN   \n",
       "groups                     95954          NaN          NaN          NaN   \n",
       "event_properties           42541          NaN          NaN          NaN   \n",
       "data                       88726          NaN          NaN          NaN   \n",
       "device_id                   4420          NaN          NaN          NaN   \n",
       "language                   87622          NaN          NaN          NaN   \n",
       "device_model                6603          NaN          NaN          NaN   \n",
       "country                    52680          NaN          NaN          NaN   \n",
       "region                      7464          NaN          NaN          NaN   \n",
       "is_attribution_event       95954          NaN          NaN          NaN   \n",
       "session_id                   NaN  1.54617e+12  1.42031e+09  1.53346e+12   \n",
       "device_family              32070          NaN          NaN          NaN   \n",
       "client_event_time              5          NaN          NaN          NaN   \n",
       "\n",
       "                                   25%          50%          75%          max  \n",
       "server_received_time               NaN          NaN          NaN          NaN  \n",
       "app                             205075       205075       205075       205075  \n",
       "device_carrier                     NaN          NaN          NaN          NaN  \n",
       "$schema                             12           12           12           12  \n",
       "city                               NaN          NaN          NaN          NaN  \n",
       "user_id                           3872         5639         6609         8008  \n",
       "uuid                               NaN          NaN          NaN          NaN  \n",
       "event_time                         NaN          NaN          NaN          NaN  \n",
       "platform                           NaN          NaN          NaN          NaN  \n",
       "os_version                         NaN          NaN          NaN          NaN  \n",
       "amplitude_id               7.46903e+10  7.66353e+10  7.80779e+10  8.15516e+10  \n",
       "processed_time                     NaN          NaN          NaN          NaN  \n",
       "user_creation_time                 NaN          NaN          NaN          NaN  \n",
       "version_name                       NaN          NaN          NaN          NaN  \n",
       "ip_address                         NaN          NaN          NaN          NaN  \n",
       "dma                                NaN          NaN          NaN          NaN  \n",
       "group_properties                   NaN          NaN          NaN          NaN  \n",
       "user_properties                    NaN          NaN          NaN          NaN  \n",
       "client_upload_time                 NaN          NaN          NaN          NaN  \n",
       "$insert_id                         NaN          NaN          NaN          NaN  \n",
       "event_type                         NaN          NaN          NaN          NaN  \n",
       "library                            NaN          NaN          NaN          NaN  \n",
       "amplitude_attribution_ids          NaN          NaN          NaN          NaN  \n",
       "device_type                        NaN          NaN          NaN          NaN  \n",
       "device_manufacturer                NaN          NaN          NaN          NaN  \n",
       "start_version                      NaN          NaN          NaN          NaN  \n",
       "server_upload_time                 NaN          NaN          NaN          NaN  \n",
       "event_id                             5           19          147         4420  \n",
       "os_name                            NaN          NaN          NaN          NaN  \n",
       "amplitude_event_type               NaN          NaN          NaN          NaN  \n",
       "device_brand                       NaN          NaN          NaN          NaN  \n",
       "groups                             NaN          NaN          NaN          NaN  \n",
       "event_properties                   NaN          NaN          NaN          NaN  \n",
       "data                               NaN          NaN          NaN          NaN  \n",
       "device_id                          NaN          NaN          NaN          NaN  \n",
       "language                           NaN          NaN          NaN          NaN  \n",
       "device_model                       NaN          NaN          NaN          NaN  \n",
       "country                            NaN          NaN          NaN          NaN  \n",
       "region                             NaN          NaN          NaN          NaN  \n",
       "is_attribution_event               NaN          NaN          NaN          NaN  \n",
       "session_id                 1.54505e+12  1.54635e+12  1.54732e+12  1.54913e+12  \n",
       "device_family                      NaN          NaN          NaN          NaN  \n",
       "client_event_time                  NaN          NaN          NaN          NaN  "
      ]
     },
     "execution_count": 55,
     "metadata": {},
     "output_type": "execute_result"
    }
   ],
   "source": [
    "data.describe(include='all').T"
   ]
  },
  {
   "cell_type": "code",
   "execution_count": 56,
   "metadata": {},
   "outputs": [
    {
     "data": {
      "text/html": [
       "<div>\n",
       "<style scoped>\n",
       "    .dataframe tbody tr th:only-of-type {\n",
       "        vertical-align: middle;\n",
       "    }\n",
       "\n",
       "    .dataframe tbody tr th {\n",
       "        vertical-align: top;\n",
       "    }\n",
       "\n",
       "    .dataframe thead th {\n",
       "        text-align: right;\n",
       "    }\n",
       "</style>\n",
       "<table border=\"1\" class=\"dataframe\">\n",
       "  <thead>\n",
       "    <tr style=\"text-align: right;\">\n",
       "      <th></th>\n",
       "      <th>app</th>\n",
       "      <th>$schema</th>\n",
       "      <th>user_id</th>\n",
       "      <th>amplitude_id</th>\n",
       "      <th>event_id</th>\n",
       "      <th>is_attribution_event</th>\n",
       "      <th>session_id</th>\n",
       "    </tr>\n",
       "  </thead>\n",
       "  <tbody>\n",
       "    <tr>\n",
       "      <th>app</th>\n",
       "      <td>NaN</td>\n",
       "      <td>NaN</td>\n",
       "      <td>NaN</td>\n",
       "      <td>NaN</td>\n",
       "      <td>NaN</td>\n",
       "      <td>NaN</td>\n",
       "      <td>NaN</td>\n",
       "    </tr>\n",
       "    <tr>\n",
       "      <th>$schema</th>\n",
       "      <td>NaN</td>\n",
       "      <td>NaN</td>\n",
       "      <td>NaN</td>\n",
       "      <td>NaN</td>\n",
       "      <td>NaN</td>\n",
       "      <td>NaN</td>\n",
       "      <td>NaN</td>\n",
       "    </tr>\n",
       "    <tr>\n",
       "      <th>user_id</th>\n",
       "      <td>NaN</td>\n",
       "      <td>NaN</td>\n",
       "      <td>1.000000</td>\n",
       "      <td>0.932571</td>\n",
       "      <td>-0.501683</td>\n",
       "      <td>NaN</td>\n",
       "      <td>0.332385</td>\n",
       "    </tr>\n",
       "    <tr>\n",
       "      <th>amplitude_id</th>\n",
       "      <td>NaN</td>\n",
       "      <td>NaN</td>\n",
       "      <td>0.932571</td>\n",
       "      <td>1.000000</td>\n",
       "      <td>-0.295869</td>\n",
       "      <td>NaN</td>\n",
       "      <td>0.251432</td>\n",
       "    </tr>\n",
       "    <tr>\n",
       "      <th>event_id</th>\n",
       "      <td>NaN</td>\n",
       "      <td>NaN</td>\n",
       "      <td>-0.501683</td>\n",
       "      <td>-0.295869</td>\n",
       "      <td>1.000000</td>\n",
       "      <td>NaN</td>\n",
       "      <td>0.165245</td>\n",
       "    </tr>\n",
       "    <tr>\n",
       "      <th>is_attribution_event</th>\n",
       "      <td>NaN</td>\n",
       "      <td>NaN</td>\n",
       "      <td>NaN</td>\n",
       "      <td>NaN</td>\n",
       "      <td>NaN</td>\n",
       "      <td>NaN</td>\n",
       "      <td>NaN</td>\n",
       "    </tr>\n",
       "    <tr>\n",
       "      <th>session_id</th>\n",
       "      <td>NaN</td>\n",
       "      <td>NaN</td>\n",
       "      <td>0.332385</td>\n",
       "      <td>0.251432</td>\n",
       "      <td>0.165245</td>\n",
       "      <td>NaN</td>\n",
       "      <td>1.000000</td>\n",
       "    </tr>\n",
       "  </tbody>\n",
       "</table>\n",
       "</div>"
      ],
      "text/plain": [
       "                      app  $schema   user_id  amplitude_id  event_id  \\\n",
       "app                   NaN      NaN       NaN           NaN       NaN   \n",
       "$schema               NaN      NaN       NaN           NaN       NaN   \n",
       "user_id               NaN      NaN  1.000000      0.932571 -0.501683   \n",
       "amplitude_id          NaN      NaN  0.932571      1.000000 -0.295869   \n",
       "event_id              NaN      NaN -0.501683     -0.295869  1.000000   \n",
       "is_attribution_event  NaN      NaN       NaN           NaN       NaN   \n",
       "session_id            NaN      NaN  0.332385      0.251432  0.165245   \n",
       "\n",
       "                      is_attribution_event  session_id  \n",
       "app                                    NaN         NaN  \n",
       "$schema                                NaN         NaN  \n",
       "user_id                                NaN    0.332385  \n",
       "amplitude_id                           NaN    0.251432  \n",
       "event_id                               NaN    0.165245  \n",
       "is_attribution_event                   NaN         NaN  \n",
       "session_id                             NaN    1.000000  "
      ]
     },
     "execution_count": 56,
     "metadata": {},
     "output_type": "execute_result"
    }
   ],
   "source": [
    "data.corr()"
   ]
  },
  {
   "cell_type": "markdown",
   "metadata": {},
   "source": [
    "### Pre-Processing"
   ]
  },
  {
   "cell_type": "code",
   "execution_count": 57,
   "metadata": {},
   "outputs": [],
   "source": [
    "def get_date(s):\n",
    "    return s.split(' ')[0]\n",
    "\n",
    "def get_time(s):\n",
    "    return s.split(' ')[1]\n",
    "\n",
    "data['event_date'] = data['event_time'].apply(get_date)\n",
    "data['event_time'] = data['event_time'].apply(get_time)"
   ]
  },
  {
   "cell_type": "markdown",
   "metadata": {},
   "source": [
    "## Deliverable #1: Initial"
   ]
  },
  {
   "cell_type": "markdown",
   "metadata": {},
   "source": [
    "#### Key Findings:\n",
    "- 'session_start' and 'session_end' are the most commonly occuring Events\n",
    "- December 2018 and January 2019 are the busiest months w.r.t the number of events occuring."
   ]
  },
  {
   "cell_type": "code",
   "execution_count": 58,
   "metadata": {},
   "outputs": [
    {
     "data": {
      "text/html": [
       "<div>\n",
       "<style scoped>\n",
       "    .dataframe tbody tr th:only-of-type {\n",
       "        vertical-align: middle;\n",
       "    }\n",
       "\n",
       "    .dataframe tbody tr th {\n",
       "        vertical-align: top;\n",
       "    }\n",
       "\n",
       "    .dataframe thead th {\n",
       "        text-align: right;\n",
       "    }\n",
       "</style>\n",
       "<table border=\"1\" class=\"dataframe\">\n",
       "  <thead>\n",
       "    <tr style=\"text-align: right;\">\n",
       "      <th></th>\n",
       "      <th>event_type</th>\n",
       "    </tr>\n",
       "    <tr>\n",
       "      <th>event_date</th>\n",
       "      <th></th>\n",
       "    </tr>\n",
       "  </thead>\n",
       "  <tbody>\n",
       "    <tr>\n",
       "      <th>2018-10-15</th>\n",
       "      <td>1</td>\n",
       "    </tr>\n",
       "    <tr>\n",
       "      <th>2018-10-17</th>\n",
       "      <td>2</td>\n",
       "    </tr>\n",
       "    <tr>\n",
       "      <th>2018-10-18</th>\n",
       "      <td>1</td>\n",
       "    </tr>\n",
       "    <tr>\n",
       "      <th>2018-10-20</th>\n",
       "      <td>1</td>\n",
       "    </tr>\n",
       "    <tr>\n",
       "      <th>2018-10-22</th>\n",
       "      <td>1</td>\n",
       "    </tr>\n",
       "    <tr>\n",
       "      <th>2018-10-23</th>\n",
       "      <td>1</td>\n",
       "    </tr>\n",
       "    <tr>\n",
       "      <th>2018-10-24</th>\n",
       "      <td>4</td>\n",
       "    </tr>\n",
       "    <tr>\n",
       "      <th>2018-10-26</th>\n",
       "      <td>3</td>\n",
       "    </tr>\n",
       "    <tr>\n",
       "      <th>2018-10-27</th>\n",
       "      <td>5</td>\n",
       "    </tr>\n",
       "    <tr>\n",
       "      <th>2018-10-28</th>\n",
       "      <td>10</td>\n",
       "    </tr>\n",
       "    <tr>\n",
       "      <th>2018-10-29</th>\n",
       "      <td>10</td>\n",
       "    </tr>\n",
       "    <tr>\n",
       "      <th>2018-10-30</th>\n",
       "      <td>4</td>\n",
       "    </tr>\n",
       "    <tr>\n",
       "      <th>2018-10-31</th>\n",
       "      <td>6</td>\n",
       "    </tr>\n",
       "    <tr>\n",
       "      <th>2018-11-01</th>\n",
       "      <td>5</td>\n",
       "    </tr>\n",
       "    <tr>\n",
       "      <th>2018-11-02</th>\n",
       "      <td>12</td>\n",
       "    </tr>\n",
       "    <tr>\n",
       "      <th>2018-11-03</th>\n",
       "      <td>13</td>\n",
       "    </tr>\n",
       "    <tr>\n",
       "      <th>2018-11-04</th>\n",
       "      <td>7</td>\n",
       "    </tr>\n",
       "    <tr>\n",
       "      <th>2018-11-05</th>\n",
       "      <td>7</td>\n",
       "    </tr>\n",
       "    <tr>\n",
       "      <th>2018-11-06</th>\n",
       "      <td>12</td>\n",
       "    </tr>\n",
       "    <tr>\n",
       "      <th>2018-11-07</th>\n",
       "      <td>12</td>\n",
       "    </tr>\n",
       "    <tr>\n",
       "      <th>2018-11-08</th>\n",
       "      <td>20</td>\n",
       "    </tr>\n",
       "    <tr>\n",
       "      <th>2018-11-09</th>\n",
       "      <td>3</td>\n",
       "    </tr>\n",
       "    <tr>\n",
       "      <th>2018-11-10</th>\n",
       "      <td>10</td>\n",
       "    </tr>\n",
       "    <tr>\n",
       "      <th>2018-11-11</th>\n",
       "      <td>18</td>\n",
       "    </tr>\n",
       "    <tr>\n",
       "      <th>2018-11-12</th>\n",
       "      <td>18</td>\n",
       "    </tr>\n",
       "    <tr>\n",
       "      <th>2018-11-13</th>\n",
       "      <td>14</td>\n",
       "    </tr>\n",
       "    <tr>\n",
       "      <th>2018-11-14</th>\n",
       "      <td>21</td>\n",
       "    </tr>\n",
       "    <tr>\n",
       "      <th>2018-11-15</th>\n",
       "      <td>12</td>\n",
       "    </tr>\n",
       "    <tr>\n",
       "      <th>2018-11-16</th>\n",
       "      <td>12</td>\n",
       "    </tr>\n",
       "    <tr>\n",
       "      <th>2018-11-17</th>\n",
       "      <td>10</td>\n",
       "    </tr>\n",
       "    <tr>\n",
       "      <th>...</th>\n",
       "      <td>...</td>\n",
       "    </tr>\n",
       "    <tr>\n",
       "      <th>2019-01-02</th>\n",
       "      <td>2453</td>\n",
       "    </tr>\n",
       "    <tr>\n",
       "      <th>2019-01-03</th>\n",
       "      <td>2728</td>\n",
       "    </tr>\n",
       "    <tr>\n",
       "      <th>2019-01-04</th>\n",
       "      <td>2273</td>\n",
       "    </tr>\n",
       "    <tr>\n",
       "      <th>2019-01-05</th>\n",
       "      <td>1978</td>\n",
       "    </tr>\n",
       "    <tr>\n",
       "      <th>2019-01-06</th>\n",
       "      <td>2655</td>\n",
       "    </tr>\n",
       "    <tr>\n",
       "      <th>2019-01-07</th>\n",
       "      <td>2083</td>\n",
       "    </tr>\n",
       "    <tr>\n",
       "      <th>2019-01-08</th>\n",
       "      <td>2001</td>\n",
       "    </tr>\n",
       "    <tr>\n",
       "      <th>2019-01-09</th>\n",
       "      <td>1794</td>\n",
       "    </tr>\n",
       "    <tr>\n",
       "      <th>2019-01-10</th>\n",
       "      <td>1731</td>\n",
       "    </tr>\n",
       "    <tr>\n",
       "      <th>2019-01-11</th>\n",
       "      <td>1275</td>\n",
       "    </tr>\n",
       "    <tr>\n",
       "      <th>2019-01-12</th>\n",
       "      <td>1914</td>\n",
       "    </tr>\n",
       "    <tr>\n",
       "      <th>2019-01-13</th>\n",
       "      <td>1900</td>\n",
       "    </tr>\n",
       "    <tr>\n",
       "      <th>2019-01-14</th>\n",
       "      <td>1687</td>\n",
       "    </tr>\n",
       "    <tr>\n",
       "      <th>2019-01-15</th>\n",
       "      <td>1199</td>\n",
       "    </tr>\n",
       "    <tr>\n",
       "      <th>2019-01-16</th>\n",
       "      <td>2385</td>\n",
       "    </tr>\n",
       "    <tr>\n",
       "      <th>2019-01-17</th>\n",
       "      <td>4038</td>\n",
       "    </tr>\n",
       "    <tr>\n",
       "      <th>2019-01-18</th>\n",
       "      <td>2136</td>\n",
       "    </tr>\n",
       "    <tr>\n",
       "      <th>2019-01-19</th>\n",
       "      <td>1497</td>\n",
       "    </tr>\n",
       "    <tr>\n",
       "      <th>2019-01-20</th>\n",
       "      <td>1500</td>\n",
       "    </tr>\n",
       "    <tr>\n",
       "      <th>2019-01-21</th>\n",
       "      <td>1283</td>\n",
       "    </tr>\n",
       "    <tr>\n",
       "      <th>2019-01-22</th>\n",
       "      <td>931</td>\n",
       "    </tr>\n",
       "    <tr>\n",
       "      <th>2019-01-23</th>\n",
       "      <td>797</td>\n",
       "    </tr>\n",
       "    <tr>\n",
       "      <th>2019-01-24</th>\n",
       "      <td>635</td>\n",
       "    </tr>\n",
       "    <tr>\n",
       "      <th>2019-01-25</th>\n",
       "      <td>673</td>\n",
       "    </tr>\n",
       "    <tr>\n",
       "      <th>2019-01-26</th>\n",
       "      <td>426</td>\n",
       "    </tr>\n",
       "    <tr>\n",
       "      <th>2019-01-27</th>\n",
       "      <td>506</td>\n",
       "    </tr>\n",
       "    <tr>\n",
       "      <th>2019-01-28</th>\n",
       "      <td>534</td>\n",
       "    </tr>\n",
       "    <tr>\n",
       "      <th>2019-01-29</th>\n",
       "      <td>465</td>\n",
       "    </tr>\n",
       "    <tr>\n",
       "      <th>2019-01-30</th>\n",
       "      <td>484</td>\n",
       "    </tr>\n",
       "    <tr>\n",
       "      <th>2019-01-31</th>\n",
       "      <td>608</td>\n",
       "    </tr>\n",
       "  </tbody>\n",
       "</table>\n",
       "<p>105 rows × 1 columns</p>\n",
       "</div>"
      ],
      "text/plain": [
       "            event_type\n",
       "event_date            \n",
       "2018-10-15           1\n",
       "2018-10-17           2\n",
       "2018-10-18           1\n",
       "2018-10-20           1\n",
       "2018-10-22           1\n",
       "2018-10-23           1\n",
       "2018-10-24           4\n",
       "2018-10-26           3\n",
       "2018-10-27           5\n",
       "2018-10-28          10\n",
       "2018-10-29          10\n",
       "2018-10-30           4\n",
       "2018-10-31           6\n",
       "2018-11-01           5\n",
       "2018-11-02          12\n",
       "2018-11-03          13\n",
       "2018-11-04           7\n",
       "2018-11-05           7\n",
       "2018-11-06          12\n",
       "2018-11-07          12\n",
       "2018-11-08          20\n",
       "2018-11-09           3\n",
       "2018-11-10          10\n",
       "2018-11-11          18\n",
       "2018-11-12          18\n",
       "2018-11-13          14\n",
       "2018-11-14          21\n",
       "2018-11-15          12\n",
       "2018-11-16          12\n",
       "2018-11-17          10\n",
       "...                ...\n",
       "2019-01-02        2453\n",
       "2019-01-03        2728\n",
       "2019-01-04        2273\n",
       "2019-01-05        1978\n",
       "2019-01-06        2655\n",
       "2019-01-07        2083\n",
       "2019-01-08        2001\n",
       "2019-01-09        1794\n",
       "2019-01-10        1731\n",
       "2019-01-11        1275\n",
       "2019-01-12        1914\n",
       "2019-01-13        1900\n",
       "2019-01-14        1687\n",
       "2019-01-15        1199\n",
       "2019-01-16        2385\n",
       "2019-01-17        4038\n",
       "2019-01-18        2136\n",
       "2019-01-19        1497\n",
       "2019-01-20        1500\n",
       "2019-01-21        1283\n",
       "2019-01-22         931\n",
       "2019-01-23         797\n",
       "2019-01-24         635\n",
       "2019-01-25         673\n",
       "2019-01-26         426\n",
       "2019-01-27         506\n",
       "2019-01-28         534\n",
       "2019-01-29         465\n",
       "2019-01-30         484\n",
       "2019-01-31         608\n",
       "\n",
       "[105 rows x 1 columns]"
      ]
     },
     "execution_count": 58,
     "metadata": {},
     "output_type": "execute_result"
    }
   ],
   "source": [
    "event_time_series = pd.pivot_table(data, values='event_type', index=['event_date'], aggfunc='count')\n",
    "event_time_series"
   ]
  },
  {
   "cell_type": "markdown",
   "metadata": {},
   "source": [
    "#### Time-Series vs Events"
   ]
  },
  {
   "cell_type": "code",
   "execution_count": 59,
   "metadata": {},
   "outputs": [
    {
     "data": {
      "application/vnd.plotly.v1+json": {
       "config": {
        "plotlyServerURL": "https://plot.ly"
       },
       "data": [
        {
         "marker": {
          "color": "green",
          "line": {
           "color": "Black",
           "width": 0.75
          }
         },
         "opacity": 0.8,
         "type": "bar",
         "x": [
          "2018-10-15",
          "2018-10-17",
          "2018-10-18",
          "2018-10-20",
          "2018-10-22",
          "2018-10-23",
          "2018-10-24",
          "2018-10-26",
          "2018-10-27",
          "2018-10-28",
          "2018-10-29",
          "2018-10-30",
          "2018-10-31",
          "2018-11-01",
          "2018-11-02",
          "2018-11-03",
          "2018-11-04",
          "2018-11-05",
          "2018-11-06",
          "2018-11-07",
          "2018-11-08",
          "2018-11-09",
          "2018-11-10",
          "2018-11-11",
          "2018-11-12",
          "2018-11-13",
          "2018-11-14",
          "2018-11-15",
          "2018-11-16",
          "2018-11-17",
          "2018-11-18",
          "2018-11-19",
          "2018-11-20",
          "2018-11-21",
          "2018-11-22",
          "2018-11-23",
          "2018-11-24",
          "2018-11-25",
          "2018-11-26",
          "2018-11-27",
          "2018-11-28",
          "2018-11-29",
          "2018-11-30",
          "2018-12-01",
          "2018-12-02",
          "2018-12-03",
          "2018-12-04",
          "2018-12-05",
          "2018-12-06",
          "2018-12-07",
          "2018-12-08",
          "2018-12-09",
          "2018-12-10",
          "2018-12-11",
          "2018-12-12",
          "2018-12-13",
          "2018-12-14",
          "2018-12-15",
          "2018-12-16",
          "2018-12-17",
          "2018-12-18",
          "2018-12-19",
          "2018-12-20",
          "2018-12-21",
          "2018-12-22",
          "2018-12-23",
          "2018-12-24",
          "2018-12-25",
          "2018-12-26",
          "2018-12-27",
          "2018-12-28",
          "2018-12-29",
          "2018-12-30",
          "2018-12-31",
          "2019-01-01",
          "2019-01-02",
          "2019-01-03",
          "2019-01-04",
          "2019-01-05",
          "2019-01-06",
          "2019-01-07",
          "2019-01-08",
          "2019-01-09",
          "2019-01-10",
          "2019-01-11",
          "2019-01-12",
          "2019-01-13",
          "2019-01-14",
          "2019-01-15",
          "2019-01-16",
          "2019-01-17",
          "2019-01-18",
          "2019-01-19",
          "2019-01-20",
          "2019-01-21",
          "2019-01-22",
          "2019-01-23",
          "2019-01-24",
          "2019-01-25",
          "2019-01-26",
          "2019-01-27",
          "2019-01-28",
          "2019-01-29",
          "2019-01-30",
          "2019-01-31"
         ],
         "y": [
          1,
          2,
          1,
          1,
          1,
          1,
          4,
          3,
          5,
          10,
          10,
          4,
          6,
          5,
          12,
          13,
          7,
          7,
          12,
          12,
          20,
          3,
          10,
          18,
          18,
          14,
          21,
          12,
          12,
          10,
          21,
          32,
          19,
          35,
          22,
          16,
          37,
          29,
          41,
          31,
          42,
          64,
          95,
          928,
          2025,
          1774,
          2336,
          2023,
          1517,
          884,
          1379,
          897,
          1126,
          1650,
          1029,
          951,
          993,
          1443,
          1894,
          1916,
          2444,
          1799,
          1127,
          1090,
          1354,
          1220,
          1104,
          1133,
          1233,
          767,
          1539,
          2058,
          1895,
          2235,
          2883,
          2453,
          2728,
          2273,
          1978,
          2655,
          2083,
          2001,
          1794,
          1731,
          1275,
          1914,
          1900,
          1687,
          1199,
          2385,
          4038,
          2136,
          1497,
          1500,
          1283,
          931,
          797,
          635,
          673,
          426,
          506,
          534,
          465,
          484,
          608
         ]
        }
       ],
       "layout": {
        "height": 500,
        "template": {
         "data": {
          "bar": [
           {
            "error_x": {
             "color": "#2a3f5f"
            },
            "error_y": {
             "color": "#2a3f5f"
            },
            "marker": {
             "line": {
              "color": "#E5ECF6",
              "width": 0.5
             }
            },
            "type": "bar"
           }
          ],
          "barpolar": [
           {
            "marker": {
             "line": {
              "color": "#E5ECF6",
              "width": 0.5
             }
            },
            "type": "barpolar"
           }
          ],
          "carpet": [
           {
            "aaxis": {
             "endlinecolor": "#2a3f5f",
             "gridcolor": "white",
             "linecolor": "white",
             "minorgridcolor": "white",
             "startlinecolor": "#2a3f5f"
            },
            "baxis": {
             "endlinecolor": "#2a3f5f",
             "gridcolor": "white",
             "linecolor": "white",
             "minorgridcolor": "white",
             "startlinecolor": "#2a3f5f"
            },
            "type": "carpet"
           }
          ],
          "choropleth": [
           {
            "colorbar": {
             "outlinewidth": 0,
             "ticks": ""
            },
            "type": "choropleth"
           }
          ],
          "contour": [
           {
            "colorbar": {
             "outlinewidth": 0,
             "ticks": ""
            },
            "colorscale": [
             [
              0,
              "#0d0887"
             ],
             [
              0.1111111111111111,
              "#46039f"
             ],
             [
              0.2222222222222222,
              "#7201a8"
             ],
             [
              0.3333333333333333,
              "#9c179e"
             ],
             [
              0.4444444444444444,
              "#bd3786"
             ],
             [
              0.5555555555555556,
              "#d8576b"
             ],
             [
              0.6666666666666666,
              "#ed7953"
             ],
             [
              0.7777777777777778,
              "#fb9f3a"
             ],
             [
              0.8888888888888888,
              "#fdca26"
             ],
             [
              1,
              "#f0f921"
             ]
            ],
            "type": "contour"
           }
          ],
          "contourcarpet": [
           {
            "colorbar": {
             "outlinewidth": 0,
             "ticks": ""
            },
            "type": "contourcarpet"
           }
          ],
          "heatmap": [
           {
            "colorbar": {
             "outlinewidth": 0,
             "ticks": ""
            },
            "colorscale": [
             [
              0,
              "#0d0887"
             ],
             [
              0.1111111111111111,
              "#46039f"
             ],
             [
              0.2222222222222222,
              "#7201a8"
             ],
             [
              0.3333333333333333,
              "#9c179e"
             ],
             [
              0.4444444444444444,
              "#bd3786"
             ],
             [
              0.5555555555555556,
              "#d8576b"
             ],
             [
              0.6666666666666666,
              "#ed7953"
             ],
             [
              0.7777777777777778,
              "#fb9f3a"
             ],
             [
              0.8888888888888888,
              "#fdca26"
             ],
             [
              1,
              "#f0f921"
             ]
            ],
            "type": "heatmap"
           }
          ],
          "heatmapgl": [
           {
            "colorbar": {
             "outlinewidth": 0,
             "ticks": ""
            },
            "colorscale": [
             [
              0,
              "#0d0887"
             ],
             [
              0.1111111111111111,
              "#46039f"
             ],
             [
              0.2222222222222222,
              "#7201a8"
             ],
             [
              0.3333333333333333,
              "#9c179e"
             ],
             [
              0.4444444444444444,
              "#bd3786"
             ],
             [
              0.5555555555555556,
              "#d8576b"
             ],
             [
              0.6666666666666666,
              "#ed7953"
             ],
             [
              0.7777777777777778,
              "#fb9f3a"
             ],
             [
              0.8888888888888888,
              "#fdca26"
             ],
             [
              1,
              "#f0f921"
             ]
            ],
            "type": "heatmapgl"
           }
          ],
          "histogram": [
           {
            "marker": {
             "colorbar": {
              "outlinewidth": 0,
              "ticks": ""
             }
            },
            "type": "histogram"
           }
          ],
          "histogram2d": [
           {
            "colorbar": {
             "outlinewidth": 0,
             "ticks": ""
            },
            "colorscale": [
             [
              0,
              "#0d0887"
             ],
             [
              0.1111111111111111,
              "#46039f"
             ],
             [
              0.2222222222222222,
              "#7201a8"
             ],
             [
              0.3333333333333333,
              "#9c179e"
             ],
             [
              0.4444444444444444,
              "#bd3786"
             ],
             [
              0.5555555555555556,
              "#d8576b"
             ],
             [
              0.6666666666666666,
              "#ed7953"
             ],
             [
              0.7777777777777778,
              "#fb9f3a"
             ],
             [
              0.8888888888888888,
              "#fdca26"
             ],
             [
              1,
              "#f0f921"
             ]
            ],
            "type": "histogram2d"
           }
          ],
          "histogram2dcontour": [
           {
            "colorbar": {
             "outlinewidth": 0,
             "ticks": ""
            },
            "colorscale": [
             [
              0,
              "#0d0887"
             ],
             [
              0.1111111111111111,
              "#46039f"
             ],
             [
              0.2222222222222222,
              "#7201a8"
             ],
             [
              0.3333333333333333,
              "#9c179e"
             ],
             [
              0.4444444444444444,
              "#bd3786"
             ],
             [
              0.5555555555555556,
              "#d8576b"
             ],
             [
              0.6666666666666666,
              "#ed7953"
             ],
             [
              0.7777777777777778,
              "#fb9f3a"
             ],
             [
              0.8888888888888888,
              "#fdca26"
             ],
             [
              1,
              "#f0f921"
             ]
            ],
            "type": "histogram2dcontour"
           }
          ],
          "mesh3d": [
           {
            "colorbar": {
             "outlinewidth": 0,
             "ticks": ""
            },
            "type": "mesh3d"
           }
          ],
          "parcoords": [
           {
            "line": {
             "colorbar": {
              "outlinewidth": 0,
              "ticks": ""
             }
            },
            "type": "parcoords"
           }
          ],
          "scatter": [
           {
            "marker": {
             "colorbar": {
              "outlinewidth": 0,
              "ticks": ""
             }
            },
            "type": "scatter"
           }
          ],
          "scatter3d": [
           {
            "line": {
             "colorbar": {
              "outlinewidth": 0,
              "ticks": ""
             }
            },
            "marker": {
             "colorbar": {
              "outlinewidth": 0,
              "ticks": ""
             }
            },
            "type": "scatter3d"
           }
          ],
          "scattercarpet": [
           {
            "marker": {
             "colorbar": {
              "outlinewidth": 0,
              "ticks": ""
             }
            },
            "type": "scattercarpet"
           }
          ],
          "scattergeo": [
           {
            "marker": {
             "colorbar": {
              "outlinewidth": 0,
              "ticks": ""
             }
            },
            "type": "scattergeo"
           }
          ],
          "scattergl": [
           {
            "marker": {
             "colorbar": {
              "outlinewidth": 0,
              "ticks": ""
             }
            },
            "type": "scattergl"
           }
          ],
          "scattermapbox": [
           {
            "marker": {
             "colorbar": {
              "outlinewidth": 0,
              "ticks": ""
             }
            },
            "type": "scattermapbox"
           }
          ],
          "scatterpolar": [
           {
            "marker": {
             "colorbar": {
              "outlinewidth": 0,
              "ticks": ""
             }
            },
            "type": "scatterpolar"
           }
          ],
          "scatterpolargl": [
           {
            "marker": {
             "colorbar": {
              "outlinewidth": 0,
              "ticks": ""
             }
            },
            "type": "scatterpolargl"
           }
          ],
          "scatterternary": [
           {
            "marker": {
             "colorbar": {
              "outlinewidth": 0,
              "ticks": ""
             }
            },
            "type": "scatterternary"
           }
          ],
          "surface": [
           {
            "colorbar": {
             "outlinewidth": 0,
             "ticks": ""
            },
            "colorscale": [
             [
              0,
              "#0d0887"
             ],
             [
              0.1111111111111111,
              "#46039f"
             ],
             [
              0.2222222222222222,
              "#7201a8"
             ],
             [
              0.3333333333333333,
              "#9c179e"
             ],
             [
              0.4444444444444444,
              "#bd3786"
             ],
             [
              0.5555555555555556,
              "#d8576b"
             ],
             [
              0.6666666666666666,
              "#ed7953"
             ],
             [
              0.7777777777777778,
              "#fb9f3a"
             ],
             [
              0.8888888888888888,
              "#fdca26"
             ],
             [
              1,
              "#f0f921"
             ]
            ],
            "type": "surface"
           }
          ],
          "table": [
           {
            "cells": {
             "fill": {
              "color": "#EBF0F8"
             },
             "line": {
              "color": "white"
             }
            },
            "header": {
             "fill": {
              "color": "#C8D4E3"
             },
             "line": {
              "color": "white"
             }
            },
            "type": "table"
           }
          ]
         },
         "layout": {
          "annotationdefaults": {
           "arrowcolor": "#2a3f5f",
           "arrowhead": 0,
           "arrowwidth": 1
          },
          "colorscale": {
           "diverging": [
            [
             0,
             "#8e0152"
            ],
            [
             0.1,
             "#c51b7d"
            ],
            [
             0.2,
             "#de77ae"
            ],
            [
             0.3,
             "#f1b6da"
            ],
            [
             0.4,
             "#fde0ef"
            ],
            [
             0.5,
             "#f7f7f7"
            ],
            [
             0.6,
             "#e6f5d0"
            ],
            [
             0.7,
             "#b8e186"
            ],
            [
             0.8,
             "#7fbc41"
            ],
            [
             0.9,
             "#4d9221"
            ],
            [
             1,
             "#276419"
            ]
           ],
           "sequential": [
            [
             0,
             "#0d0887"
            ],
            [
             0.1111111111111111,
             "#46039f"
            ],
            [
             0.2222222222222222,
             "#7201a8"
            ],
            [
             0.3333333333333333,
             "#9c179e"
            ],
            [
             0.4444444444444444,
             "#bd3786"
            ],
            [
             0.5555555555555556,
             "#d8576b"
            ],
            [
             0.6666666666666666,
             "#ed7953"
            ],
            [
             0.7777777777777778,
             "#fb9f3a"
            ],
            [
             0.8888888888888888,
             "#fdca26"
            ],
            [
             1,
             "#f0f921"
            ]
           ],
           "sequentialminus": [
            [
             0,
             "#0d0887"
            ],
            [
             0.1111111111111111,
             "#46039f"
            ],
            [
             0.2222222222222222,
             "#7201a8"
            ],
            [
             0.3333333333333333,
             "#9c179e"
            ],
            [
             0.4444444444444444,
             "#bd3786"
            ],
            [
             0.5555555555555556,
             "#d8576b"
            ],
            [
             0.6666666666666666,
             "#ed7953"
            ],
            [
             0.7777777777777778,
             "#fb9f3a"
            ],
            [
             0.8888888888888888,
             "#fdca26"
            ],
            [
             1,
             "#f0f921"
            ]
           ]
          },
          "colorway": [
           "#636efa",
           "#EF553B",
           "#00cc96",
           "#ab63fa",
           "#FFA15A",
           "#19d3f3",
           "#FF6692",
           "#B6E880",
           "#FF97FF",
           "#FECB52"
          ],
          "font": {
           "color": "#2a3f5f"
          },
          "geo": {
           "bgcolor": "white",
           "lakecolor": "white",
           "landcolor": "#E5ECF6",
           "showlakes": true,
           "showland": true,
           "subunitcolor": "white"
          },
          "hoverlabel": {
           "align": "left"
          },
          "hovermode": "closest",
          "mapbox": {
           "style": "light"
          },
          "paper_bgcolor": "white",
          "plot_bgcolor": "#E5ECF6",
          "polar": {
           "angularaxis": {
            "gridcolor": "white",
            "linecolor": "white",
            "ticks": ""
           },
           "bgcolor": "#E5ECF6",
           "radialaxis": {
            "gridcolor": "white",
            "linecolor": "white",
            "ticks": ""
           }
          },
          "scene": {
           "xaxis": {
            "backgroundcolor": "#E5ECF6",
            "gridcolor": "white",
            "gridwidth": 2,
            "linecolor": "white",
            "showbackground": true,
            "ticks": "",
            "zerolinecolor": "white"
           },
           "yaxis": {
            "backgroundcolor": "#E5ECF6",
            "gridcolor": "white",
            "gridwidth": 2,
            "linecolor": "white",
            "showbackground": true,
            "ticks": "",
            "zerolinecolor": "white"
           },
           "zaxis": {
            "backgroundcolor": "#E5ECF6",
            "gridcolor": "white",
            "gridwidth": 2,
            "linecolor": "white",
            "showbackground": true,
            "ticks": "",
            "zerolinecolor": "white"
           }
          },
          "shapedefaults": {
           "line": {
            "color": "#2a3f5f"
           }
          },
          "ternary": {
           "aaxis": {
            "gridcolor": "white",
            "linecolor": "white",
            "ticks": ""
           },
           "baxis": {
            "gridcolor": "white",
            "linecolor": "white",
            "ticks": ""
           },
           "bgcolor": "#E5ECF6",
           "caxis": {
            "gridcolor": "white",
            "linecolor": "white",
            "ticks": ""
           }
          },
          "title": {
           "x": 0.05
          },
          "xaxis": {
           "automargin": true,
           "gridcolor": "white",
           "linecolor": "white",
           "ticks": "",
           "zerolinecolor": "white",
           "zerolinewidth": 2
          },
          "yaxis": {
           "automargin": true,
           "gridcolor": "white",
           "linecolor": "white",
           "ticks": "",
           "zerolinecolor": "white",
           "zerolinewidth": 2
          }
         }
        },
        "title": {
         "text": "Number of Events w.r.t Dates"
        },
        "width": 700
       }
      },
      "text/html": [
       "<div>\n",
       "        \n",
       "        \n",
       "            <div id=\"fb372724-5925-4ef8-9f61-e70bac504428\" class=\"plotly-graph-div\" style=\"height:500px; width:700px;\"></div>\n",
       "            <script type=\"text/javascript\">\n",
       "                require([\"plotly\"], function(Plotly) {\n",
       "                    window.PLOTLYENV=window.PLOTLYENV || {};\n",
       "                    \n",
       "                if (document.getElementById(\"fb372724-5925-4ef8-9f61-e70bac504428\")) {\n",
       "                    Plotly.newPlot(\n",
       "                        'fb372724-5925-4ef8-9f61-e70bac504428',\n",
       "                        [{\"marker\": {\"color\": \"green\", \"line\": {\"color\": \"Black\", \"width\": 0.75}}, \"opacity\": 0.8, \"type\": \"bar\", \"x\": [\"2018-10-15\", \"2018-10-17\", \"2018-10-18\", \"2018-10-20\", \"2018-10-22\", \"2018-10-23\", \"2018-10-24\", \"2018-10-26\", \"2018-10-27\", \"2018-10-28\", \"2018-10-29\", \"2018-10-30\", \"2018-10-31\", \"2018-11-01\", \"2018-11-02\", \"2018-11-03\", \"2018-11-04\", \"2018-11-05\", \"2018-11-06\", \"2018-11-07\", \"2018-11-08\", \"2018-11-09\", \"2018-11-10\", \"2018-11-11\", \"2018-11-12\", \"2018-11-13\", \"2018-11-14\", \"2018-11-15\", \"2018-11-16\", \"2018-11-17\", \"2018-11-18\", \"2018-11-19\", \"2018-11-20\", \"2018-11-21\", \"2018-11-22\", \"2018-11-23\", \"2018-11-24\", \"2018-11-25\", \"2018-11-26\", \"2018-11-27\", \"2018-11-28\", \"2018-11-29\", \"2018-11-30\", \"2018-12-01\", \"2018-12-02\", \"2018-12-03\", \"2018-12-04\", \"2018-12-05\", \"2018-12-06\", \"2018-12-07\", \"2018-12-08\", \"2018-12-09\", \"2018-12-10\", \"2018-12-11\", \"2018-12-12\", \"2018-12-13\", \"2018-12-14\", \"2018-12-15\", \"2018-12-16\", \"2018-12-17\", \"2018-12-18\", \"2018-12-19\", \"2018-12-20\", \"2018-12-21\", \"2018-12-22\", \"2018-12-23\", \"2018-12-24\", \"2018-12-25\", \"2018-12-26\", \"2018-12-27\", \"2018-12-28\", \"2018-12-29\", \"2018-12-30\", \"2018-12-31\", \"2019-01-01\", \"2019-01-02\", \"2019-01-03\", \"2019-01-04\", \"2019-01-05\", \"2019-01-06\", \"2019-01-07\", \"2019-01-08\", \"2019-01-09\", \"2019-01-10\", \"2019-01-11\", \"2019-01-12\", \"2019-01-13\", \"2019-01-14\", \"2019-01-15\", \"2019-01-16\", \"2019-01-17\", \"2019-01-18\", \"2019-01-19\", \"2019-01-20\", \"2019-01-21\", \"2019-01-22\", \"2019-01-23\", \"2019-01-24\", \"2019-01-25\", \"2019-01-26\", \"2019-01-27\", \"2019-01-28\", \"2019-01-29\", \"2019-01-30\", \"2019-01-31\"], \"y\": [1, 2, 1, 1, 1, 1, 4, 3, 5, 10, 10, 4, 6, 5, 12, 13, 7, 7, 12, 12, 20, 3, 10, 18, 18, 14, 21, 12, 12, 10, 21, 32, 19, 35, 22, 16, 37, 29, 41, 31, 42, 64, 95, 928, 2025, 1774, 2336, 2023, 1517, 884, 1379, 897, 1126, 1650, 1029, 951, 993, 1443, 1894, 1916, 2444, 1799, 1127, 1090, 1354, 1220, 1104, 1133, 1233, 767, 1539, 2058, 1895, 2235, 2883, 2453, 2728, 2273, 1978, 2655, 2083, 2001, 1794, 1731, 1275, 1914, 1900, 1687, 1199, 2385, 4038, 2136, 1497, 1500, 1283, 931, 797, 635, 673, 426, 506, 534, 465, 484, 608]}],\n",
       "                        {\"height\": 500, \"template\": {\"data\": {\"bar\": [{\"error_x\": {\"color\": \"#2a3f5f\"}, \"error_y\": {\"color\": \"#2a3f5f\"}, \"marker\": {\"line\": {\"color\": \"#E5ECF6\", \"width\": 0.5}}, \"type\": \"bar\"}], \"barpolar\": [{\"marker\": {\"line\": {\"color\": \"#E5ECF6\", \"width\": 0.5}}, \"type\": \"barpolar\"}], \"carpet\": [{\"aaxis\": {\"endlinecolor\": \"#2a3f5f\", \"gridcolor\": \"white\", \"linecolor\": \"white\", \"minorgridcolor\": \"white\", \"startlinecolor\": \"#2a3f5f\"}, \"baxis\": {\"endlinecolor\": \"#2a3f5f\", \"gridcolor\": \"white\", \"linecolor\": \"white\", \"minorgridcolor\": \"white\", \"startlinecolor\": \"#2a3f5f\"}, \"type\": \"carpet\"}], \"choropleth\": [{\"colorbar\": {\"outlinewidth\": 0, \"ticks\": \"\"}, \"type\": \"choropleth\"}], \"contour\": [{\"colorbar\": {\"outlinewidth\": 0, \"ticks\": \"\"}, \"colorscale\": [[0.0, \"#0d0887\"], [0.1111111111111111, \"#46039f\"], [0.2222222222222222, \"#7201a8\"], [0.3333333333333333, \"#9c179e\"], [0.4444444444444444, \"#bd3786\"], [0.5555555555555556, \"#d8576b\"], [0.6666666666666666, \"#ed7953\"], [0.7777777777777778, \"#fb9f3a\"], [0.8888888888888888, \"#fdca26\"], [1.0, \"#f0f921\"]], \"type\": \"contour\"}], \"contourcarpet\": [{\"colorbar\": {\"outlinewidth\": 0, \"ticks\": \"\"}, \"type\": \"contourcarpet\"}], \"heatmap\": [{\"colorbar\": {\"outlinewidth\": 0, \"ticks\": \"\"}, \"colorscale\": [[0.0, \"#0d0887\"], [0.1111111111111111, \"#46039f\"], [0.2222222222222222, \"#7201a8\"], [0.3333333333333333, \"#9c179e\"], [0.4444444444444444, \"#bd3786\"], [0.5555555555555556, \"#d8576b\"], [0.6666666666666666, \"#ed7953\"], [0.7777777777777778, \"#fb9f3a\"], [0.8888888888888888, \"#fdca26\"], [1.0, \"#f0f921\"]], \"type\": \"heatmap\"}], \"heatmapgl\": [{\"colorbar\": {\"outlinewidth\": 0, \"ticks\": \"\"}, \"colorscale\": [[0.0, \"#0d0887\"], [0.1111111111111111, \"#46039f\"], [0.2222222222222222, \"#7201a8\"], [0.3333333333333333, \"#9c179e\"], [0.4444444444444444, \"#bd3786\"], [0.5555555555555556, \"#d8576b\"], [0.6666666666666666, \"#ed7953\"], [0.7777777777777778, \"#fb9f3a\"], [0.8888888888888888, \"#fdca26\"], [1.0, \"#f0f921\"]], \"type\": \"heatmapgl\"}], \"histogram\": [{\"marker\": {\"colorbar\": {\"outlinewidth\": 0, \"ticks\": \"\"}}, \"type\": \"histogram\"}], \"histogram2d\": [{\"colorbar\": {\"outlinewidth\": 0, \"ticks\": \"\"}, \"colorscale\": [[0.0, \"#0d0887\"], [0.1111111111111111, \"#46039f\"], [0.2222222222222222, \"#7201a8\"], [0.3333333333333333, \"#9c179e\"], [0.4444444444444444, \"#bd3786\"], [0.5555555555555556, \"#d8576b\"], [0.6666666666666666, \"#ed7953\"], [0.7777777777777778, \"#fb9f3a\"], [0.8888888888888888, \"#fdca26\"], [1.0, \"#f0f921\"]], \"type\": \"histogram2d\"}], \"histogram2dcontour\": [{\"colorbar\": {\"outlinewidth\": 0, \"ticks\": \"\"}, \"colorscale\": [[0.0, \"#0d0887\"], [0.1111111111111111, \"#46039f\"], [0.2222222222222222, \"#7201a8\"], [0.3333333333333333, \"#9c179e\"], [0.4444444444444444, \"#bd3786\"], [0.5555555555555556, \"#d8576b\"], [0.6666666666666666, \"#ed7953\"], [0.7777777777777778, \"#fb9f3a\"], [0.8888888888888888, \"#fdca26\"], [1.0, \"#f0f921\"]], \"type\": \"histogram2dcontour\"}], \"mesh3d\": [{\"colorbar\": {\"outlinewidth\": 0, \"ticks\": \"\"}, \"type\": \"mesh3d\"}], \"parcoords\": [{\"line\": {\"colorbar\": {\"outlinewidth\": 0, \"ticks\": \"\"}}, \"type\": \"parcoords\"}], \"scatter\": [{\"marker\": {\"colorbar\": {\"outlinewidth\": 0, \"ticks\": \"\"}}, \"type\": \"scatter\"}], \"scatter3d\": [{\"line\": {\"colorbar\": {\"outlinewidth\": 0, \"ticks\": \"\"}}, \"marker\": {\"colorbar\": {\"outlinewidth\": 0, \"ticks\": \"\"}}, \"type\": \"scatter3d\"}], \"scattercarpet\": [{\"marker\": {\"colorbar\": {\"outlinewidth\": 0, \"ticks\": \"\"}}, \"type\": \"scattercarpet\"}], \"scattergeo\": [{\"marker\": {\"colorbar\": {\"outlinewidth\": 0, \"ticks\": \"\"}}, \"type\": \"scattergeo\"}], \"scattergl\": [{\"marker\": {\"colorbar\": {\"outlinewidth\": 0, \"ticks\": \"\"}}, \"type\": \"scattergl\"}], \"scattermapbox\": [{\"marker\": {\"colorbar\": {\"outlinewidth\": 0, \"ticks\": \"\"}}, \"type\": \"scattermapbox\"}], \"scatterpolar\": [{\"marker\": {\"colorbar\": {\"outlinewidth\": 0, \"ticks\": \"\"}}, \"type\": \"scatterpolar\"}], \"scatterpolargl\": [{\"marker\": {\"colorbar\": {\"outlinewidth\": 0, \"ticks\": \"\"}}, \"type\": \"scatterpolargl\"}], \"scatterternary\": [{\"marker\": {\"colorbar\": {\"outlinewidth\": 0, \"ticks\": \"\"}}, \"type\": \"scatterternary\"}], \"surface\": [{\"colorbar\": {\"outlinewidth\": 0, \"ticks\": \"\"}, \"colorscale\": [[0.0, \"#0d0887\"], [0.1111111111111111, \"#46039f\"], [0.2222222222222222, \"#7201a8\"], [0.3333333333333333, \"#9c179e\"], [0.4444444444444444, \"#bd3786\"], [0.5555555555555556, \"#d8576b\"], [0.6666666666666666, \"#ed7953\"], [0.7777777777777778, \"#fb9f3a\"], [0.8888888888888888, \"#fdca26\"], [1.0, \"#f0f921\"]], \"type\": \"surface\"}], \"table\": [{\"cells\": {\"fill\": {\"color\": \"#EBF0F8\"}, \"line\": {\"color\": \"white\"}}, \"header\": {\"fill\": {\"color\": \"#C8D4E3\"}, \"line\": {\"color\": \"white\"}}, \"type\": \"table\"}]}, \"layout\": {\"annotationdefaults\": {\"arrowcolor\": \"#2a3f5f\", \"arrowhead\": 0, \"arrowwidth\": 1}, \"colorscale\": {\"diverging\": [[0, \"#8e0152\"], [0.1, \"#c51b7d\"], [0.2, \"#de77ae\"], [0.3, \"#f1b6da\"], [0.4, \"#fde0ef\"], [0.5, \"#f7f7f7\"], [0.6, \"#e6f5d0\"], [0.7, \"#b8e186\"], [0.8, \"#7fbc41\"], [0.9, \"#4d9221\"], [1, \"#276419\"]], \"sequential\": [[0.0, \"#0d0887\"], [0.1111111111111111, \"#46039f\"], [0.2222222222222222, \"#7201a8\"], [0.3333333333333333, \"#9c179e\"], [0.4444444444444444, \"#bd3786\"], [0.5555555555555556, \"#d8576b\"], [0.6666666666666666, \"#ed7953\"], [0.7777777777777778, \"#fb9f3a\"], [0.8888888888888888, \"#fdca26\"], [1.0, \"#f0f921\"]], \"sequentialminus\": [[0.0, \"#0d0887\"], [0.1111111111111111, \"#46039f\"], [0.2222222222222222, \"#7201a8\"], [0.3333333333333333, \"#9c179e\"], [0.4444444444444444, \"#bd3786\"], [0.5555555555555556, \"#d8576b\"], [0.6666666666666666, \"#ed7953\"], [0.7777777777777778, \"#fb9f3a\"], [0.8888888888888888, \"#fdca26\"], [1.0, \"#f0f921\"]]}, \"colorway\": [\"#636efa\", \"#EF553B\", \"#00cc96\", \"#ab63fa\", \"#FFA15A\", \"#19d3f3\", \"#FF6692\", \"#B6E880\", \"#FF97FF\", \"#FECB52\"], \"font\": {\"color\": \"#2a3f5f\"}, \"geo\": {\"bgcolor\": \"white\", \"lakecolor\": \"white\", \"landcolor\": \"#E5ECF6\", \"showlakes\": true, \"showland\": true, \"subunitcolor\": \"white\"}, \"hoverlabel\": {\"align\": \"left\"}, \"hovermode\": \"closest\", \"mapbox\": {\"style\": \"light\"}, \"paper_bgcolor\": \"white\", \"plot_bgcolor\": \"#E5ECF6\", \"polar\": {\"angularaxis\": {\"gridcolor\": \"white\", \"linecolor\": \"white\", \"ticks\": \"\"}, \"bgcolor\": \"#E5ECF6\", \"radialaxis\": {\"gridcolor\": \"white\", \"linecolor\": \"white\", \"ticks\": \"\"}}, \"scene\": {\"xaxis\": {\"backgroundcolor\": \"#E5ECF6\", \"gridcolor\": \"white\", \"gridwidth\": 2, \"linecolor\": \"white\", \"showbackground\": true, \"ticks\": \"\", \"zerolinecolor\": \"white\"}, \"yaxis\": {\"backgroundcolor\": \"#E5ECF6\", \"gridcolor\": \"white\", \"gridwidth\": 2, \"linecolor\": \"white\", \"showbackground\": true, \"ticks\": \"\", \"zerolinecolor\": \"white\"}, \"zaxis\": {\"backgroundcolor\": \"#E5ECF6\", \"gridcolor\": \"white\", \"gridwidth\": 2, \"linecolor\": \"white\", \"showbackground\": true, \"ticks\": \"\", \"zerolinecolor\": \"white\"}}, \"shapedefaults\": {\"line\": {\"color\": \"#2a3f5f\"}}, \"ternary\": {\"aaxis\": {\"gridcolor\": \"white\", \"linecolor\": \"white\", \"ticks\": \"\"}, \"baxis\": {\"gridcolor\": \"white\", \"linecolor\": \"white\", \"ticks\": \"\"}, \"bgcolor\": \"#E5ECF6\", \"caxis\": {\"gridcolor\": \"white\", \"linecolor\": \"white\", \"ticks\": \"\"}}, \"title\": {\"x\": 0.05}, \"xaxis\": {\"automargin\": true, \"gridcolor\": \"white\", \"linecolor\": \"white\", \"ticks\": \"\", \"zerolinecolor\": \"white\", \"zerolinewidth\": 2}, \"yaxis\": {\"automargin\": true, \"gridcolor\": \"white\", \"linecolor\": \"white\", \"ticks\": \"\", \"zerolinecolor\": \"white\", \"zerolinewidth\": 2}}}, \"title\": {\"text\": \"Number of Events w.r.t Dates\"}, \"width\": 700},\n",
       "                        {\"responsive\": true}\n",
       "                    ).then(function(){\n",
       "                            \n",
       "var gd = document.getElementById('fb372724-5925-4ef8-9f61-e70bac504428');\n",
       "var x = new MutationObserver(function (mutations, observer) {{\n",
       "        var display = window.getComputedStyle(gd).display;\n",
       "        if (!display || display === 'none') {{\n",
       "            console.log([gd, 'removed!']);\n",
       "            Plotly.purge(gd);\n",
       "            observer.disconnect();\n",
       "        }}\n",
       "}});\n",
       "\n",
       "// Listen for the removal of the full notebook cells\n",
       "var notebookContainer = gd.closest('#notebook-container');\n",
       "if (notebookContainer) {{\n",
       "    x.observe(notebookContainer, {childList: true});\n",
       "}}\n",
       "\n",
       "// Listen for the clearing of the current output cell\n",
       "var outputEl = gd.closest('.output');\n",
       "if (outputEl) {{\n",
       "    x.observe(outputEl, {childList: true});\n",
       "}}\n",
       "\n",
       "                        })\n",
       "                };\n",
       "                });\n",
       "            </script>\n",
       "        </div>"
      ]
     },
     "metadata": {},
     "output_type": "display_data"
    }
   ],
   "source": [
    "# Time-Series Chart for 'event_type'\n",
    "\n",
    "# Data\n",
    "plot_data = [\n",
    "        go.Bar(\n",
    "                x = (list(event_time_series.index)),\n",
    "                y = (list(event_time_series.values.reshape(len(event_time_series.values),))),\n",
    "                opacity = 0.8,\n",
    "                marker = dict(\n",
    "                                color = 'green',\n",
    "                                line = dict(\n",
    "                                            color = 'Black',\n",
    "                                            width = 0.75\n",
    "                                            )\n",
    "                                )\n",
    "            )\n",
    "        ]\n",
    "\n",
    "# Layout\n",
    "layout = go.Layout(\n",
    "                        title = 'Number of Events w.r.t Dates',\n",
    "                        width = 700,\n",
    "                        height = 500,\n",
    "                        #paper_bgcolor='rgba(0,0,0,0)',\n",
    "                        #plot_bgcolor='rgba(0,0,0,0)'\n",
    "                        )\n",
    "\n",
    "# Figure\n",
    "fig = go.Figure(data = plot_data, layout = layout)\n",
    "\n",
    "# fig.update_layout()\n",
    "fig.show()"
   ]
  },
  {
   "cell_type": "markdown",
   "metadata": {},
   "source": [
    "#### Number of happening Event Types"
   ]
  },
  {
   "cell_type": "code",
   "execution_count": 60,
   "metadata": {},
   "outputs": [
    {
     "data": {
      "text/plain": [
       "0                   session_end\n",
       "1                 session_start\n",
       "2                     JAFA Open\n",
       "3                     JAFA Open\n",
       "4                   session_end\n",
       "5                 session_start\n",
       "6                  Like Article\n",
       "7                  Article Open\n",
       "8                    Share News\n",
       "9                  Article Open\n",
       "10                   Share News\n",
       "11                    JAFA Open\n",
       "12                    Like JAFA\n",
       "13                  session_end\n",
       "14                session_start\n",
       "15        News Notification Tap\n",
       "16                  session_end\n",
       "17                session_start\n",
       "18              Add JAFA Button\n",
       "19                  session_end\n",
       "20                session_start\n",
       "21                    JAFA Open\n",
       "22              Add JAFA Button\n",
       "23                        Deals\n",
       "24                    JAFA Open\n",
       "25                    JAFA Open\n",
       "26                session_start\n",
       "27                   First Open\n",
       "28                  First Login\n",
       "29          News Setting Change\n",
       "                  ...          \n",
       "95924               session_end\n",
       "95925             session_start\n",
       "95926              Article Open\n",
       "95927               session_end\n",
       "95928             session_start\n",
       "95929              Article Open\n",
       "95930              Article Open\n",
       "95931               session_end\n",
       "95932             session_start\n",
       "95933              Article Open\n",
       "95934                 JAFA Open\n",
       "95935               session_end\n",
       "95936             session_start\n",
       "95937    Onboarding Step Opened\n",
       "95938               session_end\n",
       "95939             session_start\n",
       "95940              Article Open\n",
       "95941              Article Open\n",
       "95942              Article Open\n",
       "95943                 JAFA Open\n",
       "95944                 JAFA Open\n",
       "95945               session_end\n",
       "95946             session_start\n",
       "95947             session_start\n",
       "95948                First Open\n",
       "95949                First Open\n",
       "95950    Onboarding Step Opened\n",
       "95951    Onboarding Step Opened\n",
       "95952               session_end\n",
       "95953             session_start\n",
       "Name: event_type, Length: 95954, dtype: object"
      ]
     },
     "execution_count": 60,
     "metadata": {},
     "output_type": "execute_result"
    }
   ],
   "source": [
    "data['event_type']"
   ]
  },
  {
   "cell_type": "code",
   "execution_count": 61,
   "metadata": {},
   "outputs": [
    {
     "data": {
      "application/vnd.plotly.v1+json": {
       "config": {
        "plotlyServerURL": "https://plot.ly"
       },
       "data": [
        {
         "marker": {
          "color": "deepskyblue"
         },
         "name": "Event Type",
         "type": "bar",
         "x": [
          "Add JAFA Button",
          "Article Open",
          "Changing \"Your Team\"",
          "Click News Source",
          "Deals",
          "Dislike Article",
          "Dislike Comment",
          "Dislike JAFA",
          "Edit Profile",
          "Error",
          "First Login",
          "First Open",
          "Interaction Notification Tap",
          "JAFA Comment",
          "JAFA Open",
          "Like Article",
          "Like Comment",
          "Like JAFA",
          "Login",
          "New Level",
          "News Comment",
          "News Notification Tap",
          "News Setting Change",
          "Onboarding Questions Completed",
          "Onboarding Step 1 Opened",
          "Onboarding Step 1 Started",
          "Onboarding Step 2 Opened",
          "Onboarding Step 2 Started",
          "Onboarding Step 3 Opened",
          "Onboarding Step 3 Started",
          "Onboarding Step 4 Opened",
          "Onboarding Step 5 Opened",
          "Onboarding Step 6 Opened",
          "Onboarding Step Opened",
          "Reports",
          "Share JAFA",
          "Share News",
          "Sign up with Facebook button",
          "Sign up with Twitter button",
          "Sign up with an Email button",
          "TEST EVENT TWO",
          "error",
          "session_end",
          "session_start"
         ],
         "y": [
          2118,
          12030,
          2620,
          1648,
          554,
          504,
          211,
          331,
          658,
          3089,
          3764,
          7376,
          563,
          2116,
          10112,
          4102,
          1109,
          1376,
          129,
          375,
          599,
          2275,
          1085,
          2689,
          4,
          18,
          80,
          3,
          39,
          1,
          8,
          7,
          7,
          1991,
          30,
          193,
          286,
          8,
          4,
          7,
          2,
          19,
          12263,
          19551
         ]
        },
        {
         "marker": {
          "color": "blue"
         },
         "name": "Event Type",
         "showlegend": false,
         "type": "scatter",
         "x": [
          "Add JAFA Button",
          "Article Open",
          "Changing \"Your Team\"",
          "Click News Source",
          "Deals",
          "Dislike Article",
          "Dislike Comment",
          "Dislike JAFA",
          "Edit Profile",
          "Error",
          "First Login",
          "First Open",
          "Interaction Notification Tap",
          "JAFA Comment",
          "JAFA Open",
          "Like Article",
          "Like Comment",
          "Like JAFA",
          "Login",
          "New Level",
          "News Comment",
          "News Notification Tap",
          "News Setting Change",
          "Onboarding Questions Completed",
          "Onboarding Step 1 Opened",
          "Onboarding Step 1 Started",
          "Onboarding Step 2 Opened",
          "Onboarding Step 2 Started",
          "Onboarding Step 3 Opened",
          "Onboarding Step 3 Started",
          "Onboarding Step 4 Opened",
          "Onboarding Step 5 Opened",
          "Onboarding Step 6 Opened",
          "Onboarding Step Opened",
          "Reports",
          "Share JAFA",
          "Share News",
          "Sign up with Facebook button",
          "Sign up with Twitter button",
          "Sign up with an Email button",
          "TEST EVENT TWO",
          "error",
          "session_end",
          "session_start"
         ],
         "y": [
          2118,
          12030,
          2620,
          1648,
          554,
          504,
          211,
          331,
          658,
          3089,
          3764,
          7376,
          563,
          2116,
          10112,
          4102,
          1109,
          1376,
          129,
          375,
          599,
          2275,
          1085,
          2689,
          4,
          18,
          80,
          3,
          39,
          1,
          8,
          7,
          7,
          1991,
          30,
          193,
          286,
          8,
          4,
          7,
          2,
          19,
          12263,
          19551
         ]
        }
       ],
       "layout": {
        "template": {
         "data": {
          "bar": [
           {
            "error_x": {
             "color": "#2a3f5f"
            },
            "error_y": {
             "color": "#2a3f5f"
            },
            "marker": {
             "line": {
              "color": "#E5ECF6",
              "width": 0.5
             }
            },
            "type": "bar"
           }
          ],
          "barpolar": [
           {
            "marker": {
             "line": {
              "color": "#E5ECF6",
              "width": 0.5
             }
            },
            "type": "barpolar"
           }
          ],
          "carpet": [
           {
            "aaxis": {
             "endlinecolor": "#2a3f5f",
             "gridcolor": "white",
             "linecolor": "white",
             "minorgridcolor": "white",
             "startlinecolor": "#2a3f5f"
            },
            "baxis": {
             "endlinecolor": "#2a3f5f",
             "gridcolor": "white",
             "linecolor": "white",
             "minorgridcolor": "white",
             "startlinecolor": "#2a3f5f"
            },
            "type": "carpet"
           }
          ],
          "choropleth": [
           {
            "colorbar": {
             "outlinewidth": 0,
             "ticks": ""
            },
            "type": "choropleth"
           }
          ],
          "contour": [
           {
            "colorbar": {
             "outlinewidth": 0,
             "ticks": ""
            },
            "colorscale": [
             [
              0,
              "#0d0887"
             ],
             [
              0.1111111111111111,
              "#46039f"
             ],
             [
              0.2222222222222222,
              "#7201a8"
             ],
             [
              0.3333333333333333,
              "#9c179e"
             ],
             [
              0.4444444444444444,
              "#bd3786"
             ],
             [
              0.5555555555555556,
              "#d8576b"
             ],
             [
              0.6666666666666666,
              "#ed7953"
             ],
             [
              0.7777777777777778,
              "#fb9f3a"
             ],
             [
              0.8888888888888888,
              "#fdca26"
             ],
             [
              1,
              "#f0f921"
             ]
            ],
            "type": "contour"
           }
          ],
          "contourcarpet": [
           {
            "colorbar": {
             "outlinewidth": 0,
             "ticks": ""
            },
            "type": "contourcarpet"
           }
          ],
          "heatmap": [
           {
            "colorbar": {
             "outlinewidth": 0,
             "ticks": ""
            },
            "colorscale": [
             [
              0,
              "#0d0887"
             ],
             [
              0.1111111111111111,
              "#46039f"
             ],
             [
              0.2222222222222222,
              "#7201a8"
             ],
             [
              0.3333333333333333,
              "#9c179e"
             ],
             [
              0.4444444444444444,
              "#bd3786"
             ],
             [
              0.5555555555555556,
              "#d8576b"
             ],
             [
              0.6666666666666666,
              "#ed7953"
             ],
             [
              0.7777777777777778,
              "#fb9f3a"
             ],
             [
              0.8888888888888888,
              "#fdca26"
             ],
             [
              1,
              "#f0f921"
             ]
            ],
            "type": "heatmap"
           }
          ],
          "heatmapgl": [
           {
            "colorbar": {
             "outlinewidth": 0,
             "ticks": ""
            },
            "colorscale": [
             [
              0,
              "#0d0887"
             ],
             [
              0.1111111111111111,
              "#46039f"
             ],
             [
              0.2222222222222222,
              "#7201a8"
             ],
             [
              0.3333333333333333,
              "#9c179e"
             ],
             [
              0.4444444444444444,
              "#bd3786"
             ],
             [
              0.5555555555555556,
              "#d8576b"
             ],
             [
              0.6666666666666666,
              "#ed7953"
             ],
             [
              0.7777777777777778,
              "#fb9f3a"
             ],
             [
              0.8888888888888888,
              "#fdca26"
             ],
             [
              1,
              "#f0f921"
             ]
            ],
            "type": "heatmapgl"
           }
          ],
          "histogram": [
           {
            "marker": {
             "colorbar": {
              "outlinewidth": 0,
              "ticks": ""
             }
            },
            "type": "histogram"
           }
          ],
          "histogram2d": [
           {
            "colorbar": {
             "outlinewidth": 0,
             "ticks": ""
            },
            "colorscale": [
             [
              0,
              "#0d0887"
             ],
             [
              0.1111111111111111,
              "#46039f"
             ],
             [
              0.2222222222222222,
              "#7201a8"
             ],
             [
              0.3333333333333333,
              "#9c179e"
             ],
             [
              0.4444444444444444,
              "#bd3786"
             ],
             [
              0.5555555555555556,
              "#d8576b"
             ],
             [
              0.6666666666666666,
              "#ed7953"
             ],
             [
              0.7777777777777778,
              "#fb9f3a"
             ],
             [
              0.8888888888888888,
              "#fdca26"
             ],
             [
              1,
              "#f0f921"
             ]
            ],
            "type": "histogram2d"
           }
          ],
          "histogram2dcontour": [
           {
            "colorbar": {
             "outlinewidth": 0,
             "ticks": ""
            },
            "colorscale": [
             [
              0,
              "#0d0887"
             ],
             [
              0.1111111111111111,
              "#46039f"
             ],
             [
              0.2222222222222222,
              "#7201a8"
             ],
             [
              0.3333333333333333,
              "#9c179e"
             ],
             [
              0.4444444444444444,
              "#bd3786"
             ],
             [
              0.5555555555555556,
              "#d8576b"
             ],
             [
              0.6666666666666666,
              "#ed7953"
             ],
             [
              0.7777777777777778,
              "#fb9f3a"
             ],
             [
              0.8888888888888888,
              "#fdca26"
             ],
             [
              1,
              "#f0f921"
             ]
            ],
            "type": "histogram2dcontour"
           }
          ],
          "mesh3d": [
           {
            "colorbar": {
             "outlinewidth": 0,
             "ticks": ""
            },
            "type": "mesh3d"
           }
          ],
          "parcoords": [
           {
            "line": {
             "colorbar": {
              "outlinewidth": 0,
              "ticks": ""
             }
            },
            "type": "parcoords"
           }
          ],
          "scatter": [
           {
            "marker": {
             "colorbar": {
              "outlinewidth": 0,
              "ticks": ""
             }
            },
            "type": "scatter"
           }
          ],
          "scatter3d": [
           {
            "line": {
             "colorbar": {
              "outlinewidth": 0,
              "ticks": ""
             }
            },
            "marker": {
             "colorbar": {
              "outlinewidth": 0,
              "ticks": ""
             }
            },
            "type": "scatter3d"
           }
          ],
          "scattercarpet": [
           {
            "marker": {
             "colorbar": {
              "outlinewidth": 0,
              "ticks": ""
             }
            },
            "type": "scattercarpet"
           }
          ],
          "scattergeo": [
           {
            "marker": {
             "colorbar": {
              "outlinewidth": 0,
              "ticks": ""
             }
            },
            "type": "scattergeo"
           }
          ],
          "scattergl": [
           {
            "marker": {
             "colorbar": {
              "outlinewidth": 0,
              "ticks": ""
             }
            },
            "type": "scattergl"
           }
          ],
          "scattermapbox": [
           {
            "marker": {
             "colorbar": {
              "outlinewidth": 0,
              "ticks": ""
             }
            },
            "type": "scattermapbox"
           }
          ],
          "scatterpolar": [
           {
            "marker": {
             "colorbar": {
              "outlinewidth": 0,
              "ticks": ""
             }
            },
            "type": "scatterpolar"
           }
          ],
          "scatterpolargl": [
           {
            "marker": {
             "colorbar": {
              "outlinewidth": 0,
              "ticks": ""
             }
            },
            "type": "scatterpolargl"
           }
          ],
          "scatterternary": [
           {
            "marker": {
             "colorbar": {
              "outlinewidth": 0,
              "ticks": ""
             }
            },
            "type": "scatterternary"
           }
          ],
          "surface": [
           {
            "colorbar": {
             "outlinewidth": 0,
             "ticks": ""
            },
            "colorscale": [
             [
              0,
              "#0d0887"
             ],
             [
              0.1111111111111111,
              "#46039f"
             ],
             [
              0.2222222222222222,
              "#7201a8"
             ],
             [
              0.3333333333333333,
              "#9c179e"
             ],
             [
              0.4444444444444444,
              "#bd3786"
             ],
             [
              0.5555555555555556,
              "#d8576b"
             ],
             [
              0.6666666666666666,
              "#ed7953"
             ],
             [
              0.7777777777777778,
              "#fb9f3a"
             ],
             [
              0.8888888888888888,
              "#fdca26"
             ],
             [
              1,
              "#f0f921"
             ]
            ],
            "type": "surface"
           }
          ],
          "table": [
           {
            "cells": {
             "fill": {
              "color": "#EBF0F8"
             },
             "line": {
              "color": "white"
             }
            },
            "header": {
             "fill": {
              "color": "#C8D4E3"
             },
             "line": {
              "color": "white"
             }
            },
            "type": "table"
           }
          ]
         },
         "layout": {
          "annotationdefaults": {
           "arrowcolor": "#2a3f5f",
           "arrowhead": 0,
           "arrowwidth": 1
          },
          "colorscale": {
           "diverging": [
            [
             0,
             "#8e0152"
            ],
            [
             0.1,
             "#c51b7d"
            ],
            [
             0.2,
             "#de77ae"
            ],
            [
             0.3,
             "#f1b6da"
            ],
            [
             0.4,
             "#fde0ef"
            ],
            [
             0.5,
             "#f7f7f7"
            ],
            [
             0.6,
             "#e6f5d0"
            ],
            [
             0.7,
             "#b8e186"
            ],
            [
             0.8,
             "#7fbc41"
            ],
            [
             0.9,
             "#4d9221"
            ],
            [
             1,
             "#276419"
            ]
           ],
           "sequential": [
            [
             0,
             "#0d0887"
            ],
            [
             0.1111111111111111,
             "#46039f"
            ],
            [
             0.2222222222222222,
             "#7201a8"
            ],
            [
             0.3333333333333333,
             "#9c179e"
            ],
            [
             0.4444444444444444,
             "#bd3786"
            ],
            [
             0.5555555555555556,
             "#d8576b"
            ],
            [
             0.6666666666666666,
             "#ed7953"
            ],
            [
             0.7777777777777778,
             "#fb9f3a"
            ],
            [
             0.8888888888888888,
             "#fdca26"
            ],
            [
             1,
             "#f0f921"
            ]
           ],
           "sequentialminus": [
            [
             0,
             "#0d0887"
            ],
            [
             0.1111111111111111,
             "#46039f"
            ],
            [
             0.2222222222222222,
             "#7201a8"
            ],
            [
             0.3333333333333333,
             "#9c179e"
            ],
            [
             0.4444444444444444,
             "#bd3786"
            ],
            [
             0.5555555555555556,
             "#d8576b"
            ],
            [
             0.6666666666666666,
             "#ed7953"
            ],
            [
             0.7777777777777778,
             "#fb9f3a"
            ],
            [
             0.8888888888888888,
             "#fdca26"
            ],
            [
             1,
             "#f0f921"
            ]
           ]
          },
          "colorway": [
           "#636efa",
           "#EF553B",
           "#00cc96",
           "#ab63fa",
           "#FFA15A",
           "#19d3f3",
           "#FF6692",
           "#B6E880",
           "#FF97FF",
           "#FECB52"
          ],
          "font": {
           "color": "#2a3f5f"
          },
          "geo": {
           "bgcolor": "white",
           "lakecolor": "white",
           "landcolor": "#E5ECF6",
           "showlakes": true,
           "showland": true,
           "subunitcolor": "white"
          },
          "hoverlabel": {
           "align": "left"
          },
          "hovermode": "closest",
          "mapbox": {
           "style": "light"
          },
          "paper_bgcolor": "white",
          "plot_bgcolor": "#E5ECF6",
          "polar": {
           "angularaxis": {
            "gridcolor": "white",
            "linecolor": "white",
            "ticks": ""
           },
           "bgcolor": "#E5ECF6",
           "radialaxis": {
            "gridcolor": "white",
            "linecolor": "white",
            "ticks": ""
           }
          },
          "scene": {
           "xaxis": {
            "backgroundcolor": "#E5ECF6",
            "gridcolor": "white",
            "gridwidth": 2,
            "linecolor": "white",
            "showbackground": true,
            "ticks": "",
            "zerolinecolor": "white"
           },
           "yaxis": {
            "backgroundcolor": "#E5ECF6",
            "gridcolor": "white",
            "gridwidth": 2,
            "linecolor": "white",
            "showbackground": true,
            "ticks": "",
            "zerolinecolor": "white"
           },
           "zaxis": {
            "backgroundcolor": "#E5ECF6",
            "gridcolor": "white",
            "gridwidth": 2,
            "linecolor": "white",
            "showbackground": true,
            "ticks": "",
            "zerolinecolor": "white"
           }
          },
          "shapedefaults": {
           "line": {
            "color": "#2a3f5f"
           }
          },
          "ternary": {
           "aaxis": {
            "gridcolor": "white",
            "linecolor": "white",
            "ticks": ""
           },
           "baxis": {
            "gridcolor": "white",
            "linecolor": "white",
            "ticks": ""
           },
           "bgcolor": "#E5ECF6",
           "caxis": {
            "gridcolor": "white",
            "linecolor": "white",
            "ticks": ""
           }
          },
          "title": {
           "x": 0.05
          },
          "xaxis": {
           "automargin": true,
           "gridcolor": "white",
           "linecolor": "white",
           "ticks": "",
           "zerolinecolor": "white",
           "zerolinewidth": 2
          },
          "yaxis": {
           "automargin": true,
           "gridcolor": "white",
           "linecolor": "white",
           "ticks": "",
           "zerolinecolor": "white",
           "zerolinewidth": 2
          }
         }
        }
       }
      },
      "text/html": [
       "<div>\n",
       "        \n",
       "        \n",
       "            <div id=\"1f863f24-4458-41f9-8cfa-c8b042dc4e08\" class=\"plotly-graph-div\" style=\"height:525px; width:100%;\"></div>\n",
       "            <script type=\"text/javascript\">\n",
       "                require([\"plotly\"], function(Plotly) {\n",
       "                    window.PLOTLYENV=window.PLOTLYENV || {};\n",
       "                    \n",
       "                if (document.getElementById(\"1f863f24-4458-41f9-8cfa-c8b042dc4e08\")) {\n",
       "                    Plotly.newPlot(\n",
       "                        '1f863f24-4458-41f9-8cfa-c8b042dc4e08',\n",
       "                        [{\"marker\": {\"color\": \"deepskyblue\"}, \"name\": \"Event Type\", \"type\": \"bar\", \"x\": [\"Add JAFA Button\", \"Article Open\", \"Changing \\\"Your Team\\\"\", \"Click News Source\", \"Deals\", \"Dislike Article\", \"Dislike Comment\", \"Dislike JAFA\", \"Edit Profile\", \"Error\", \"First Login\", \"First Open\", \"Interaction Notification Tap\", \"JAFA Comment\", \"JAFA Open\", \"Like Article\", \"Like Comment\", \"Like JAFA\", \"Login\", \"New Level\", \"News Comment\", \"News Notification Tap\", \"News Setting Change\", \"Onboarding Questions Completed\", \"Onboarding Step 1 Opened\", \"Onboarding Step 1 Started\", \"Onboarding Step 2 Opened\", \"Onboarding Step 2 Started\", \"Onboarding Step 3 Opened\", \"Onboarding Step 3 Started\", \"Onboarding Step 4 Opened\", \"Onboarding Step 5 Opened\", \"Onboarding Step 6 Opened\", \"Onboarding Step Opened\", \"Reports\", \"Share JAFA\", \"Share News\", \"Sign up with Facebook button\", \"Sign up with Twitter button\", \"Sign up with an Email button\", \"TEST EVENT TWO\", \"error\", \"session_end\", \"session_start\"], \"y\": [2118, 12030, 2620, 1648, 554, 504, 211, 331, 658, 3089, 3764, 7376, 563, 2116, 10112, 4102, 1109, 1376, 129, 375, 599, 2275, 1085, 2689, 4, 18, 80, 3, 39, 1, 8, 7, 7, 1991, 30, 193, 286, 8, 4, 7, 2, 19, 12263, 19551]}, {\"marker\": {\"color\": \"blue\"}, \"name\": \"Event Type\", \"showlegend\": false, \"type\": \"scatter\", \"x\": [\"Add JAFA Button\", \"Article Open\", \"Changing \\\"Your Team\\\"\", \"Click News Source\", \"Deals\", \"Dislike Article\", \"Dislike Comment\", \"Dislike JAFA\", \"Edit Profile\", \"Error\", \"First Login\", \"First Open\", \"Interaction Notification Tap\", \"JAFA Comment\", \"JAFA Open\", \"Like Article\", \"Like Comment\", \"Like JAFA\", \"Login\", \"New Level\", \"News Comment\", \"News Notification Tap\", \"News Setting Change\", \"Onboarding Questions Completed\", \"Onboarding Step 1 Opened\", \"Onboarding Step 1 Started\", \"Onboarding Step 2 Opened\", \"Onboarding Step 2 Started\", \"Onboarding Step 3 Opened\", \"Onboarding Step 3 Started\", \"Onboarding Step 4 Opened\", \"Onboarding Step 5 Opened\", \"Onboarding Step 6 Opened\", \"Onboarding Step Opened\", \"Reports\", \"Share JAFA\", \"Share News\", \"Sign up with Facebook button\", \"Sign up with Twitter button\", \"Sign up with an Email button\", \"TEST EVENT TWO\", \"error\", \"session_end\", \"session_start\"], \"y\": [2118, 12030, 2620, 1648, 554, 504, 211, 331, 658, 3089, 3764, 7376, 563, 2116, 10112, 4102, 1109, 1376, 129, 375, 599, 2275, 1085, 2689, 4, 18, 80, 3, 39, 1, 8, 7, 7, 1991, 30, 193, 286, 8, 4, 7, 2, 19, 12263, 19551]}],\n",
       "                        {\"template\": {\"data\": {\"bar\": [{\"error_x\": {\"color\": \"#2a3f5f\"}, \"error_y\": {\"color\": \"#2a3f5f\"}, \"marker\": {\"line\": {\"color\": \"#E5ECF6\", \"width\": 0.5}}, \"type\": \"bar\"}], \"barpolar\": [{\"marker\": {\"line\": {\"color\": \"#E5ECF6\", \"width\": 0.5}}, \"type\": \"barpolar\"}], \"carpet\": [{\"aaxis\": {\"endlinecolor\": \"#2a3f5f\", \"gridcolor\": \"white\", \"linecolor\": \"white\", \"minorgridcolor\": \"white\", \"startlinecolor\": \"#2a3f5f\"}, \"baxis\": {\"endlinecolor\": \"#2a3f5f\", \"gridcolor\": \"white\", \"linecolor\": \"white\", \"minorgridcolor\": \"white\", \"startlinecolor\": \"#2a3f5f\"}, \"type\": \"carpet\"}], \"choropleth\": [{\"colorbar\": {\"outlinewidth\": 0, \"ticks\": \"\"}, \"type\": \"choropleth\"}], \"contour\": [{\"colorbar\": {\"outlinewidth\": 0, \"ticks\": \"\"}, \"colorscale\": [[0.0, \"#0d0887\"], [0.1111111111111111, \"#46039f\"], [0.2222222222222222, \"#7201a8\"], [0.3333333333333333, \"#9c179e\"], [0.4444444444444444, \"#bd3786\"], [0.5555555555555556, \"#d8576b\"], [0.6666666666666666, \"#ed7953\"], [0.7777777777777778, \"#fb9f3a\"], [0.8888888888888888, \"#fdca26\"], [1.0, \"#f0f921\"]], \"type\": \"contour\"}], \"contourcarpet\": [{\"colorbar\": {\"outlinewidth\": 0, \"ticks\": \"\"}, \"type\": \"contourcarpet\"}], \"heatmap\": [{\"colorbar\": {\"outlinewidth\": 0, \"ticks\": \"\"}, \"colorscale\": [[0.0, \"#0d0887\"], [0.1111111111111111, \"#46039f\"], [0.2222222222222222, \"#7201a8\"], [0.3333333333333333, \"#9c179e\"], [0.4444444444444444, \"#bd3786\"], [0.5555555555555556, \"#d8576b\"], [0.6666666666666666, \"#ed7953\"], [0.7777777777777778, \"#fb9f3a\"], [0.8888888888888888, \"#fdca26\"], [1.0, \"#f0f921\"]], \"type\": \"heatmap\"}], \"heatmapgl\": [{\"colorbar\": {\"outlinewidth\": 0, \"ticks\": \"\"}, \"colorscale\": [[0.0, \"#0d0887\"], [0.1111111111111111, \"#46039f\"], [0.2222222222222222, \"#7201a8\"], [0.3333333333333333, \"#9c179e\"], [0.4444444444444444, \"#bd3786\"], [0.5555555555555556, \"#d8576b\"], [0.6666666666666666, \"#ed7953\"], [0.7777777777777778, \"#fb9f3a\"], [0.8888888888888888, \"#fdca26\"], [1.0, \"#f0f921\"]], \"type\": \"heatmapgl\"}], \"histogram\": [{\"marker\": {\"colorbar\": {\"outlinewidth\": 0, \"ticks\": \"\"}}, \"type\": \"histogram\"}], \"histogram2d\": [{\"colorbar\": {\"outlinewidth\": 0, \"ticks\": \"\"}, \"colorscale\": [[0.0, \"#0d0887\"], [0.1111111111111111, \"#46039f\"], [0.2222222222222222, \"#7201a8\"], [0.3333333333333333, \"#9c179e\"], [0.4444444444444444, \"#bd3786\"], [0.5555555555555556, \"#d8576b\"], [0.6666666666666666, \"#ed7953\"], [0.7777777777777778, \"#fb9f3a\"], [0.8888888888888888, \"#fdca26\"], [1.0, \"#f0f921\"]], \"type\": \"histogram2d\"}], \"histogram2dcontour\": [{\"colorbar\": {\"outlinewidth\": 0, \"ticks\": \"\"}, \"colorscale\": [[0.0, \"#0d0887\"], [0.1111111111111111, \"#46039f\"], [0.2222222222222222, \"#7201a8\"], [0.3333333333333333, \"#9c179e\"], [0.4444444444444444, \"#bd3786\"], [0.5555555555555556, \"#d8576b\"], [0.6666666666666666, \"#ed7953\"], [0.7777777777777778, \"#fb9f3a\"], [0.8888888888888888, \"#fdca26\"], [1.0, \"#f0f921\"]], \"type\": \"histogram2dcontour\"}], \"mesh3d\": [{\"colorbar\": {\"outlinewidth\": 0, \"ticks\": \"\"}, \"type\": \"mesh3d\"}], \"parcoords\": [{\"line\": {\"colorbar\": {\"outlinewidth\": 0, \"ticks\": \"\"}}, \"type\": \"parcoords\"}], \"scatter\": [{\"marker\": {\"colorbar\": {\"outlinewidth\": 0, \"ticks\": \"\"}}, \"type\": \"scatter\"}], \"scatter3d\": [{\"line\": {\"colorbar\": {\"outlinewidth\": 0, \"ticks\": \"\"}}, \"marker\": {\"colorbar\": {\"outlinewidth\": 0, \"ticks\": \"\"}}, \"type\": \"scatter3d\"}], \"scattercarpet\": [{\"marker\": {\"colorbar\": {\"outlinewidth\": 0, \"ticks\": \"\"}}, \"type\": \"scattercarpet\"}], \"scattergeo\": [{\"marker\": {\"colorbar\": {\"outlinewidth\": 0, \"ticks\": \"\"}}, \"type\": \"scattergeo\"}], \"scattergl\": [{\"marker\": {\"colorbar\": {\"outlinewidth\": 0, \"ticks\": \"\"}}, \"type\": \"scattergl\"}], \"scattermapbox\": [{\"marker\": {\"colorbar\": {\"outlinewidth\": 0, \"ticks\": \"\"}}, \"type\": \"scattermapbox\"}], \"scatterpolar\": [{\"marker\": {\"colorbar\": {\"outlinewidth\": 0, \"ticks\": \"\"}}, \"type\": \"scatterpolar\"}], \"scatterpolargl\": [{\"marker\": {\"colorbar\": {\"outlinewidth\": 0, \"ticks\": \"\"}}, \"type\": \"scatterpolargl\"}], \"scatterternary\": [{\"marker\": {\"colorbar\": {\"outlinewidth\": 0, \"ticks\": \"\"}}, \"type\": \"scatterternary\"}], \"surface\": [{\"colorbar\": {\"outlinewidth\": 0, \"ticks\": \"\"}, \"colorscale\": [[0.0, \"#0d0887\"], [0.1111111111111111, \"#46039f\"], [0.2222222222222222, \"#7201a8\"], [0.3333333333333333, \"#9c179e\"], [0.4444444444444444, \"#bd3786\"], [0.5555555555555556, \"#d8576b\"], [0.6666666666666666, \"#ed7953\"], [0.7777777777777778, \"#fb9f3a\"], [0.8888888888888888, \"#fdca26\"], [1.0, \"#f0f921\"]], \"type\": \"surface\"}], \"table\": [{\"cells\": {\"fill\": {\"color\": \"#EBF0F8\"}, \"line\": {\"color\": \"white\"}}, \"header\": {\"fill\": {\"color\": \"#C8D4E3\"}, \"line\": {\"color\": \"white\"}}, \"type\": \"table\"}]}, \"layout\": {\"annotationdefaults\": {\"arrowcolor\": \"#2a3f5f\", \"arrowhead\": 0, \"arrowwidth\": 1}, \"colorscale\": {\"diverging\": [[0, \"#8e0152\"], [0.1, \"#c51b7d\"], [0.2, \"#de77ae\"], [0.3, \"#f1b6da\"], [0.4, \"#fde0ef\"], [0.5, \"#f7f7f7\"], [0.6, \"#e6f5d0\"], [0.7, \"#b8e186\"], [0.8, \"#7fbc41\"], [0.9, \"#4d9221\"], [1, \"#276419\"]], \"sequential\": [[0.0, \"#0d0887\"], [0.1111111111111111, \"#46039f\"], [0.2222222222222222, \"#7201a8\"], [0.3333333333333333, \"#9c179e\"], [0.4444444444444444, \"#bd3786\"], [0.5555555555555556, \"#d8576b\"], [0.6666666666666666, \"#ed7953\"], [0.7777777777777778, \"#fb9f3a\"], [0.8888888888888888, \"#fdca26\"], [1.0, \"#f0f921\"]], \"sequentialminus\": [[0.0, \"#0d0887\"], [0.1111111111111111, \"#46039f\"], [0.2222222222222222, \"#7201a8\"], [0.3333333333333333, \"#9c179e\"], [0.4444444444444444, \"#bd3786\"], [0.5555555555555556, \"#d8576b\"], [0.6666666666666666, \"#ed7953\"], [0.7777777777777778, \"#fb9f3a\"], [0.8888888888888888, \"#fdca26\"], [1.0, \"#f0f921\"]]}, \"colorway\": [\"#636efa\", \"#EF553B\", \"#00cc96\", \"#ab63fa\", \"#FFA15A\", \"#19d3f3\", \"#FF6692\", \"#B6E880\", \"#FF97FF\", \"#FECB52\"], \"font\": {\"color\": \"#2a3f5f\"}, \"geo\": {\"bgcolor\": \"white\", \"lakecolor\": \"white\", \"landcolor\": \"#E5ECF6\", \"showlakes\": true, \"showland\": true, \"subunitcolor\": \"white\"}, \"hoverlabel\": {\"align\": \"left\"}, \"hovermode\": \"closest\", \"mapbox\": {\"style\": \"light\"}, \"paper_bgcolor\": \"white\", \"plot_bgcolor\": \"#E5ECF6\", \"polar\": {\"angularaxis\": {\"gridcolor\": \"white\", \"linecolor\": \"white\", \"ticks\": \"\"}, \"bgcolor\": \"#E5ECF6\", \"radialaxis\": {\"gridcolor\": \"white\", \"linecolor\": \"white\", \"ticks\": \"\"}}, \"scene\": {\"xaxis\": {\"backgroundcolor\": \"#E5ECF6\", \"gridcolor\": \"white\", \"gridwidth\": 2, \"linecolor\": \"white\", \"showbackground\": true, \"ticks\": \"\", \"zerolinecolor\": \"white\"}, \"yaxis\": {\"backgroundcolor\": \"#E5ECF6\", \"gridcolor\": \"white\", \"gridwidth\": 2, \"linecolor\": \"white\", \"showbackground\": true, \"ticks\": \"\", \"zerolinecolor\": \"white\"}, \"zaxis\": {\"backgroundcolor\": \"#E5ECF6\", \"gridcolor\": \"white\", \"gridwidth\": 2, \"linecolor\": \"white\", \"showbackground\": true, \"ticks\": \"\", \"zerolinecolor\": \"white\"}}, \"shapedefaults\": {\"line\": {\"color\": \"#2a3f5f\"}}, \"ternary\": {\"aaxis\": {\"gridcolor\": \"white\", \"linecolor\": \"white\", \"ticks\": \"\"}, \"baxis\": {\"gridcolor\": \"white\", \"linecolor\": \"white\", \"ticks\": \"\"}, \"bgcolor\": \"#E5ECF6\", \"caxis\": {\"gridcolor\": \"white\", \"linecolor\": \"white\", \"ticks\": \"\"}}, \"title\": {\"x\": 0.05}, \"xaxis\": {\"automargin\": true, \"gridcolor\": \"white\", \"linecolor\": \"white\", \"ticks\": \"\", \"zerolinecolor\": \"white\", \"zerolinewidth\": 2}, \"yaxis\": {\"automargin\": true, \"gridcolor\": \"white\", \"linecolor\": \"white\", \"ticks\": \"\", \"zerolinecolor\": \"white\", \"zerolinewidth\": 2}}}},\n",
       "                        {\"responsive\": true}\n",
       "                    ).then(function(){\n",
       "                            \n",
       "var gd = document.getElementById('1f863f24-4458-41f9-8cfa-c8b042dc4e08');\n",
       "var x = new MutationObserver(function (mutations, observer) {{\n",
       "        var display = window.getComputedStyle(gd).display;\n",
       "        if (!display || display === 'none') {{\n",
       "            console.log([gd, 'removed!']);\n",
       "            Plotly.purge(gd);\n",
       "            observer.disconnect();\n",
       "        }}\n",
       "}});\n",
       "\n",
       "// Listen for the removal of the full notebook cells\n",
       "var notebookContainer = gd.closest('#notebook-container');\n",
       "if (notebookContainer) {{\n",
       "    x.observe(notebookContainer, {childList: true});\n",
       "}}\n",
       "\n",
       "// Listen for the clearing of the current output cell\n",
       "var outputEl = gd.closest('.output');\n",
       "if (outputEl) {{\n",
       "    x.observe(outputEl, {childList: true});\n",
       "}}\n",
       "\n",
       "                        })\n",
       "                };\n",
       "                });\n",
       "            </script>\n",
       "        </div>"
      ]
     },
     "metadata": {},
     "output_type": "display_data"
    }
   ],
   "source": [
    "# Bar Chart for 'event_type'\n",
    "\n",
    "event_types, event_counts = np.unique(data.event_type, return_counts=True)\n",
    "\n",
    "\n",
    "fig = go.Figure()\n",
    "fig.add_trace(\n",
    "                go.Bar(\n",
    "                        x = list(event_types),\n",
    "                        y = list(event_counts),\n",
    "                        name='Event Type',\n",
    "                        marker_color = 'deepskyblue'\n",
    "                    )\n",
    "            )\n",
    "fig.add_trace(\n",
    "                go.Scatter(\n",
    "                        x = list(event_types),\n",
    "                        y = list(event_counts),\n",
    "                        showlegend = False,\n",
    "                        name='Event Type',\n",
    "                        marker_color = 'blue'\n",
    "                    )\n",
    "            )\n",
    "\n",
    "# Here we modify the tickangle of the xaxis, resulting in rotated labels.\n",
    "fig.update_layout()\n",
    "fig.show()"
   ]
  },
  {
   "cell_type": "markdown",
   "metadata": {},
   "source": [
    "## Deliverable #2: Intermediate"
   ]
  },
  {
   "cell_type": "markdown",
   "metadata": {},
   "source": [
    "##### Key Findings:\n",
    "- 'session_start' and 'session_end' are the most occuring Events.\n",
    "- 'United Kingdom' has the most active User base.\n",
    "- User base significantly increased during December 2018."
   ]
  },
  {
   "cell_type": "code",
   "execution_count": 62,
   "metadata": {},
   "outputs": [
    {
     "data": {
      "text/html": [
       "<div>\n",
       "<style scoped>\n",
       "    .dataframe tbody tr th:only-of-type {\n",
       "        vertical-align: middle;\n",
       "    }\n",
       "\n",
       "    .dataframe tbody tr th {\n",
       "        vertical-align: top;\n",
       "    }\n",
       "\n",
       "    .dataframe thead th {\n",
       "        text-align: right;\n",
       "    }\n",
       "</style>\n",
       "<table border=\"1\" class=\"dataframe\">\n",
       "  <thead>\n",
       "    <tr style=\"text-align: right;\">\n",
       "      <th></th>\n",
       "      <th>event_time</th>\n",
       "    </tr>\n",
       "    <tr>\n",
       "      <th>event_type</th>\n",
       "      <th></th>\n",
       "    </tr>\n",
       "  </thead>\n",
       "  <tbody>\n",
       "    <tr>\n",
       "      <th>Add JAFA Button</th>\n",
       "      <td>2118</td>\n",
       "    </tr>\n",
       "    <tr>\n",
       "      <th>Article Open</th>\n",
       "      <td>12030</td>\n",
       "    </tr>\n",
       "    <tr>\n",
       "      <th>Changing \"Your Team\"</th>\n",
       "      <td>2620</td>\n",
       "    </tr>\n",
       "    <tr>\n",
       "      <th>Click News Source</th>\n",
       "      <td>1648</td>\n",
       "    </tr>\n",
       "    <tr>\n",
       "      <th>Deals</th>\n",
       "      <td>554</td>\n",
       "    </tr>\n",
       "    <tr>\n",
       "      <th>Dislike Article</th>\n",
       "      <td>504</td>\n",
       "    </tr>\n",
       "    <tr>\n",
       "      <th>Dislike Comment</th>\n",
       "      <td>211</td>\n",
       "    </tr>\n",
       "    <tr>\n",
       "      <th>Dislike JAFA</th>\n",
       "      <td>331</td>\n",
       "    </tr>\n",
       "    <tr>\n",
       "      <th>Edit Profile</th>\n",
       "      <td>658</td>\n",
       "    </tr>\n",
       "    <tr>\n",
       "      <th>Error</th>\n",
       "      <td>3089</td>\n",
       "    </tr>\n",
       "    <tr>\n",
       "      <th>First Login</th>\n",
       "      <td>3764</td>\n",
       "    </tr>\n",
       "    <tr>\n",
       "      <th>First Open</th>\n",
       "      <td>7376</td>\n",
       "    </tr>\n",
       "    <tr>\n",
       "      <th>Interaction Notification Tap</th>\n",
       "      <td>563</td>\n",
       "    </tr>\n",
       "    <tr>\n",
       "      <th>JAFA Comment</th>\n",
       "      <td>2116</td>\n",
       "    </tr>\n",
       "    <tr>\n",
       "      <th>JAFA Open</th>\n",
       "      <td>10112</td>\n",
       "    </tr>\n",
       "    <tr>\n",
       "      <th>Like Article</th>\n",
       "      <td>4102</td>\n",
       "    </tr>\n",
       "    <tr>\n",
       "      <th>Like Comment</th>\n",
       "      <td>1109</td>\n",
       "    </tr>\n",
       "    <tr>\n",
       "      <th>Like JAFA</th>\n",
       "      <td>1376</td>\n",
       "    </tr>\n",
       "    <tr>\n",
       "      <th>Login</th>\n",
       "      <td>129</td>\n",
       "    </tr>\n",
       "    <tr>\n",
       "      <th>New Level</th>\n",
       "      <td>375</td>\n",
       "    </tr>\n",
       "    <tr>\n",
       "      <th>News Comment</th>\n",
       "      <td>599</td>\n",
       "    </tr>\n",
       "    <tr>\n",
       "      <th>News Notification Tap</th>\n",
       "      <td>2275</td>\n",
       "    </tr>\n",
       "    <tr>\n",
       "      <th>News Setting Change</th>\n",
       "      <td>1085</td>\n",
       "    </tr>\n",
       "    <tr>\n",
       "      <th>Onboarding Questions Completed</th>\n",
       "      <td>2689</td>\n",
       "    </tr>\n",
       "    <tr>\n",
       "      <th>Onboarding Step 1 Opened</th>\n",
       "      <td>4</td>\n",
       "    </tr>\n",
       "    <tr>\n",
       "      <th>Onboarding Step 1 Started</th>\n",
       "      <td>18</td>\n",
       "    </tr>\n",
       "    <tr>\n",
       "      <th>Onboarding Step 2 Opened</th>\n",
       "      <td>80</td>\n",
       "    </tr>\n",
       "    <tr>\n",
       "      <th>Onboarding Step 2 Started</th>\n",
       "      <td>3</td>\n",
       "    </tr>\n",
       "    <tr>\n",
       "      <th>Onboarding Step 3 Opened</th>\n",
       "      <td>39</td>\n",
       "    </tr>\n",
       "    <tr>\n",
       "      <th>Onboarding Step 3 Started</th>\n",
       "      <td>1</td>\n",
       "    </tr>\n",
       "    <tr>\n",
       "      <th>Onboarding Step 4 Opened</th>\n",
       "      <td>8</td>\n",
       "    </tr>\n",
       "    <tr>\n",
       "      <th>Onboarding Step 5 Opened</th>\n",
       "      <td>7</td>\n",
       "    </tr>\n",
       "    <tr>\n",
       "      <th>Onboarding Step 6 Opened</th>\n",
       "      <td>7</td>\n",
       "    </tr>\n",
       "    <tr>\n",
       "      <th>Onboarding Step Opened</th>\n",
       "      <td>1991</td>\n",
       "    </tr>\n",
       "    <tr>\n",
       "      <th>Reports</th>\n",
       "      <td>30</td>\n",
       "    </tr>\n",
       "    <tr>\n",
       "      <th>Share JAFA</th>\n",
       "      <td>193</td>\n",
       "    </tr>\n",
       "    <tr>\n",
       "      <th>Share News</th>\n",
       "      <td>286</td>\n",
       "    </tr>\n",
       "    <tr>\n",
       "      <th>Sign up with Facebook button</th>\n",
       "      <td>8</td>\n",
       "    </tr>\n",
       "    <tr>\n",
       "      <th>Sign up with Twitter button</th>\n",
       "      <td>4</td>\n",
       "    </tr>\n",
       "    <tr>\n",
       "      <th>Sign up with an Email button</th>\n",
       "      <td>7</td>\n",
       "    </tr>\n",
       "    <tr>\n",
       "      <th>TEST EVENT TWO</th>\n",
       "      <td>2</td>\n",
       "    </tr>\n",
       "    <tr>\n",
       "      <th>error</th>\n",
       "      <td>19</td>\n",
       "    </tr>\n",
       "    <tr>\n",
       "      <th>session_end</th>\n",
       "      <td>12263</td>\n",
       "    </tr>\n",
       "    <tr>\n",
       "      <th>session_start</th>\n",
       "      <td>19551</td>\n",
       "    </tr>\n",
       "  </tbody>\n",
       "</table>\n",
       "</div>"
      ],
      "text/plain": [
       "                                event_time\n",
       "event_type                                \n",
       "Add JAFA Button                       2118\n",
       "Article Open                         12030\n",
       "Changing \"Your Team\"                  2620\n",
       "Click News Source                     1648\n",
       "Deals                                  554\n",
       "Dislike Article                        504\n",
       "Dislike Comment                        211\n",
       "Dislike JAFA                           331\n",
       "Edit Profile                           658\n",
       "Error                                 3089\n",
       "First Login                           3764\n",
       "First Open                            7376\n",
       "Interaction Notification Tap           563\n",
       "JAFA Comment                          2116\n",
       "JAFA Open                            10112\n",
       "Like Article                          4102\n",
       "Like Comment                          1109\n",
       "Like JAFA                             1376\n",
       "Login                                  129\n",
       "New Level                              375\n",
       "News Comment                           599\n",
       "News Notification Tap                 2275\n",
       "News Setting Change                   1085\n",
       "Onboarding Questions Completed        2689\n",
       "Onboarding Step 1 Opened                 4\n",
       "Onboarding Step 1 Started               18\n",
       "Onboarding Step 2 Opened                80\n",
       "Onboarding Step 2 Started                3\n",
       "Onboarding Step 3 Opened                39\n",
       "Onboarding Step 3 Started                1\n",
       "Onboarding Step 4 Opened                 8\n",
       "Onboarding Step 5 Opened                 7\n",
       "Onboarding Step 6 Opened                 7\n",
       "Onboarding Step Opened                1991\n",
       "Reports                                 30\n",
       "Share JAFA                             193\n",
       "Share News                             286\n",
       "Sign up with Facebook button             8\n",
       "Sign up with Twitter button              4\n",
       "Sign up with an Email button             7\n",
       "TEST EVENT TWO                           2\n",
       "error                                   19\n",
       "session_end                          12263\n",
       "session_start                        19551"
      ]
     },
     "execution_count": 62,
     "metadata": {},
     "output_type": "execute_result"
    }
   ],
   "source": [
    "# Grouping 'event_type' on give 'event_date'\n",
    "event_grouped_by_date = pd.DataFrame(data.groupby(['event_type'])['event_time'].count())\n",
    "event_grouped_by_date"
   ]
  },
  {
   "cell_type": "code",
   "execution_count": 63,
   "metadata": {},
   "outputs": [
    {
     "data": {
      "text/html": [
       "<div>\n",
       "<style scoped>\n",
       "    .dataframe tbody tr th:only-of-type {\n",
       "        vertical-align: middle;\n",
       "    }\n",
       "\n",
       "    .dataframe tbody tr th {\n",
       "        vertical-align: top;\n",
       "    }\n",
       "\n",
       "    .dataframe thead th {\n",
       "        text-align: right;\n",
       "    }\n",
       "</style>\n",
       "<table border=\"1\" class=\"dataframe\">\n",
       "  <thead>\n",
       "    <tr style=\"text-align: right;\">\n",
       "      <th></th>\n",
       "      <th></th>\n",
       "      <th></th>\n",
       "      <th>event_time</th>\n",
       "    </tr>\n",
       "    <tr>\n",
       "      <th>country</th>\n",
       "      <th>region</th>\n",
       "      <th>city</th>\n",
       "      <th></th>\n",
       "    </tr>\n",
       "  </thead>\n",
       "  <tbody>\n",
       "    <tr>\n",
       "      <th rowspan=\"4\" valign=\"top\">Algeria</th>\n",
       "      <th>Algiers</th>\n",
       "      <th>Algiers</th>\n",
       "      <td>9</td>\n",
       "    </tr>\n",
       "    <tr>\n",
       "      <th>Bouira</th>\n",
       "      <th>El Oued</th>\n",
       "      <td>2</td>\n",
       "    </tr>\n",
       "    <tr>\n",
       "      <th>Oran</th>\n",
       "      <th>Oran</th>\n",
       "      <td>4</td>\n",
       "    </tr>\n",
       "    <tr>\n",
       "      <th>Souk Ahras</th>\n",
       "      <th>Taoura</th>\n",
       "      <td>2</td>\n",
       "    </tr>\n",
       "    <tr>\n",
       "      <th rowspan=\"2\" valign=\"top\">Argentina</th>\n",
       "      <th>Chaco</th>\n",
       "      <th>Resistencia</th>\n",
       "      <td>2</td>\n",
       "    </tr>\n",
       "    <tr>\n",
       "      <th>Cordoba</th>\n",
       "      <th>Villa Giardino</th>\n",
       "      <td>3</td>\n",
       "    </tr>\n",
       "    <tr>\n",
       "      <th rowspan=\"24\" valign=\"top\">Australia</th>\n",
       "      <th rowspan=\"4\" valign=\"top\">Australian Capital Territory</th>\n",
       "      <th>Canberra</th>\n",
       "      <td>22</td>\n",
       "    </tr>\n",
       "    <tr>\n",
       "      <th>Fyshwick</th>\n",
       "      <td>2</td>\n",
       "    </tr>\n",
       "    <tr>\n",
       "      <th>Kambah</th>\n",
       "      <td>2</td>\n",
       "    </tr>\n",
       "    <tr>\n",
       "      <th>Wanniassa</th>\n",
       "      <td>2</td>\n",
       "    </tr>\n",
       "    <tr>\n",
       "      <th rowspan=\"20\" valign=\"top\">New South Wales</th>\n",
       "      <th>Abermain</th>\n",
       "      <td>2</td>\n",
       "    </tr>\n",
       "    <tr>\n",
       "      <th>Adamstown</th>\n",
       "      <td>3</td>\n",
       "    </tr>\n",
       "    <tr>\n",
       "      <th>Alexandria</th>\n",
       "      <td>16</td>\n",
       "    </tr>\n",
       "    <tr>\n",
       "      <th>Annandale</th>\n",
       "      <td>15</td>\n",
       "    </tr>\n",
       "    <tr>\n",
       "      <th>Ashfield</th>\n",
       "      <td>18</td>\n",
       "    </tr>\n",
       "    <tr>\n",
       "      <th>Auburn</th>\n",
       "      <td>22</td>\n",
       "    </tr>\n",
       "    <tr>\n",
       "      <th>Balgowlah Heights</th>\n",
       "      <td>30</td>\n",
       "    </tr>\n",
       "    <tr>\n",
       "      <th>Balmain</th>\n",
       "      <td>19</td>\n",
       "    </tr>\n",
       "    <tr>\n",
       "      <th>Bankstown</th>\n",
       "      <td>17</td>\n",
       "    </tr>\n",
       "    <tr>\n",
       "      <th>Bass Hill</th>\n",
       "      <td>25</td>\n",
       "    </tr>\n",
       "    <tr>\n",
       "      <th>Bateau Bay</th>\n",
       "      <td>3</td>\n",
       "    </tr>\n",
       "    <tr>\n",
       "      <th>Baulkham Hills</th>\n",
       "      <td>26</td>\n",
       "    </tr>\n",
       "    <tr>\n",
       "      <th>Belmont</th>\n",
       "      <td>3</td>\n",
       "    </tr>\n",
       "    <tr>\n",
       "      <th>Belmore</th>\n",
       "      <td>3</td>\n",
       "    </tr>\n",
       "    <tr>\n",
       "      <th>Beverly Hills</th>\n",
       "      <td>2</td>\n",
       "    </tr>\n",
       "    <tr>\n",
       "      <th>Bexley</th>\n",
       "      <td>12</td>\n",
       "    </tr>\n",
       "    <tr>\n",
       "      <th>Blacktown</th>\n",
       "      <td>13</td>\n",
       "    </tr>\n",
       "    <tr>\n",
       "      <th>Blaxland</th>\n",
       "      <td>6</td>\n",
       "    </tr>\n",
       "    <tr>\n",
       "      <th>Bondi</th>\n",
       "      <td>37</td>\n",
       "    </tr>\n",
       "    <tr>\n",
       "      <th>Burwood</th>\n",
       "      <td>7</td>\n",
       "    </tr>\n",
       "    <tr>\n",
       "      <th>...</th>\n",
       "      <th>...</th>\n",
       "      <th>...</th>\n",
       "      <td>...</td>\n",
       "    </tr>\n",
       "    <tr>\n",
       "      <th rowspan=\"20\" valign=\"top\">United States</th>\n",
       "      <th rowspan=\"9\" valign=\"top\">Virginia</th>\n",
       "      <th>Colonial Heights</th>\n",
       "      <td>3</td>\n",
       "    </tr>\n",
       "    <tr>\n",
       "      <th>Falls Church</th>\n",
       "      <td>2</td>\n",
       "    </tr>\n",
       "    <tr>\n",
       "      <th>Fredericksburg</th>\n",
       "      <td>3</td>\n",
       "    </tr>\n",
       "    <tr>\n",
       "      <th>Herndon</th>\n",
       "      <td>7</td>\n",
       "    </tr>\n",
       "    <tr>\n",
       "      <th>Manassas</th>\n",
       "      <td>2</td>\n",
       "    </tr>\n",
       "    <tr>\n",
       "      <th>Norfolk</th>\n",
       "      <td>2</td>\n",
       "    </tr>\n",
       "    <tr>\n",
       "      <th>Reston</th>\n",
       "      <td>4</td>\n",
       "    </tr>\n",
       "    <tr>\n",
       "      <th>Richmond</th>\n",
       "      <td>1</td>\n",
       "    </tr>\n",
       "    <tr>\n",
       "      <th>Woodbridge</th>\n",
       "      <td>2</td>\n",
       "    </tr>\n",
       "    <tr>\n",
       "      <th rowspan=\"6\" valign=\"top\">Washington</th>\n",
       "      <th>Mattawa</th>\n",
       "      <td>12</td>\n",
       "    </tr>\n",
       "    <tr>\n",
       "      <th>Moses Lake</th>\n",
       "      <td>3</td>\n",
       "    </tr>\n",
       "    <tr>\n",
       "      <th>Renton</th>\n",
       "      <td>7</td>\n",
       "    </tr>\n",
       "    <tr>\n",
       "      <th>Seattle</th>\n",
       "      <td>24</td>\n",
       "    </tr>\n",
       "    <tr>\n",
       "      <th>Tacoma</th>\n",
       "      <td>5</td>\n",
       "    </tr>\n",
       "    <tr>\n",
       "      <th>Wenatchee</th>\n",
       "      <td>5</td>\n",
       "    </tr>\n",
       "    <tr>\n",
       "      <th>West Virginia</th>\n",
       "      <th>South Charleston</th>\n",
       "      <td>2</td>\n",
       "    </tr>\n",
       "    <tr>\n",
       "      <th rowspan=\"4\" valign=\"top\">Wisconsin</th>\n",
       "      <th>Fort Atkinson</th>\n",
       "      <td>3</td>\n",
       "    </tr>\n",
       "    <tr>\n",
       "      <th>Kaukauna</th>\n",
       "      <td>7</td>\n",
       "    </tr>\n",
       "    <tr>\n",
       "      <th>Milwaukee</th>\n",
       "      <td>13</td>\n",
       "    </tr>\n",
       "    <tr>\n",
       "      <th>Winneconne</th>\n",
       "      <td>2</td>\n",
       "    </tr>\n",
       "    <tr>\n",
       "      <th>Uzbekistan</th>\n",
       "      <th>Toshkent Shahri</th>\n",
       "      <th>Tashkent</th>\n",
       "      <td>2</td>\n",
       "    </tr>\n",
       "    <tr>\n",
       "      <th rowspan=\"7\" valign=\"top\">Vietnam</th>\n",
       "      <th>Da Nang</th>\n",
       "      <th>Da Nang</th>\n",
       "      <td>2</td>\n",
       "    </tr>\n",
       "    <tr>\n",
       "      <th>Hanoi</th>\n",
       "      <th>Hanoi</th>\n",
       "      <td>2</td>\n",
       "    </tr>\n",
       "    <tr>\n",
       "      <th rowspan=\"2\" valign=\"top\">Ho Chi Minh</th>\n",
       "      <th>Cu Chi</th>\n",
       "      <td>13</td>\n",
       "    </tr>\n",
       "    <tr>\n",
       "      <th>Ho Chi Minh City</th>\n",
       "      <td>14</td>\n",
       "    </tr>\n",
       "    <tr>\n",
       "      <th>Tinh Ben Tre</th>\n",
       "      <th>Bến Tre</th>\n",
       "      <td>2</td>\n",
       "    </tr>\n",
       "    <tr>\n",
       "      <th>Tinh Quang Nam</th>\n",
       "      <th>Tam Ky</th>\n",
       "      <td>2</td>\n",
       "    </tr>\n",
       "    <tr>\n",
       "      <th>Tinh Thanh Hoa</th>\n",
       "      <th>Ha Nam</th>\n",
       "      <td>2</td>\n",
       "    </tr>\n",
       "    <tr>\n",
       "      <th>Zambia</th>\n",
       "      <th>Lusaka Province</th>\n",
       "      <th>Lusaka</th>\n",
       "      <td>49</td>\n",
       "    </tr>\n",
       "    <tr>\n",
       "      <th>Zimbabwe</th>\n",
       "      <th>Harare</th>\n",
       "      <th>Harare</th>\n",
       "      <td>79</td>\n",
       "    </tr>\n",
       "  </tbody>\n",
       "</table>\n",
       "<p>1780 rows × 1 columns</p>\n",
       "</div>"
      ],
      "text/plain": [
       "                                                              event_time\n",
       "country       region                       city                         \n",
       "Algeria       Algiers                      Algiers                     9\n",
       "              Bouira                       El Oued                     2\n",
       "              Oran                         Oran                        4\n",
       "              Souk Ahras                   Taoura                      2\n",
       "Argentina     Chaco                        Resistencia                 2\n",
       "              Cordoba                      Villa Giardino              3\n",
       "Australia     Australian Capital Territory Canberra                   22\n",
       "                                           Fyshwick                    2\n",
       "                                           Kambah                      2\n",
       "                                           Wanniassa                   2\n",
       "              New South Wales              Abermain                    2\n",
       "                                           Adamstown                   3\n",
       "                                           Alexandria                 16\n",
       "                                           Annandale                  15\n",
       "                                           Ashfield                   18\n",
       "                                           Auburn                     22\n",
       "                                           Balgowlah Heights          30\n",
       "                                           Balmain                    19\n",
       "                                           Bankstown                  17\n",
       "                                           Bass Hill                  25\n",
       "                                           Bateau Bay                  3\n",
       "                                           Baulkham Hills             26\n",
       "                                           Belmont                     3\n",
       "                                           Belmore                     3\n",
       "                                           Beverly Hills               2\n",
       "                                           Bexley                     12\n",
       "                                           Blacktown                  13\n",
       "                                           Blaxland                    6\n",
       "                                           Bondi                      37\n",
       "                                           Burwood                     7\n",
       "...                                                                  ...\n",
       "United States Virginia                     Colonial Heights            3\n",
       "                                           Falls Church                2\n",
       "                                           Fredericksburg              3\n",
       "                                           Herndon                     7\n",
       "                                           Manassas                    2\n",
       "                                           Norfolk                     2\n",
       "                                           Reston                      4\n",
       "                                           Richmond                    1\n",
       "                                           Woodbridge                  2\n",
       "              Washington                   Mattawa                    12\n",
       "                                           Moses Lake                  3\n",
       "                                           Renton                      7\n",
       "                                           Seattle                    24\n",
       "                                           Tacoma                      5\n",
       "                                           Wenatchee                   5\n",
       "              West Virginia                South Charleston            2\n",
       "              Wisconsin                    Fort Atkinson               3\n",
       "                                           Kaukauna                    7\n",
       "                                           Milwaukee                  13\n",
       "                                           Winneconne                  2\n",
       "Uzbekistan    Toshkent Shahri              Tashkent                    2\n",
       "Vietnam       Da Nang                      Da Nang                     2\n",
       "              Hanoi                        Hanoi                       2\n",
       "              Ho Chi Minh                  Cu Chi                     13\n",
       "                                           Ho Chi Minh City           14\n",
       "              Tinh Ben Tre                 Bến Tre                     2\n",
       "              Tinh Quang Nam               Tam Ky                      2\n",
       "              Tinh Thanh Hoa               Ha Nam                      2\n",
       "Zambia        Lusaka Province              Lusaka                     49\n",
       "Zimbabwe      Harare                       Harare                     79\n",
       "\n",
       "[1780 rows x 1 columns]"
      ]
     },
     "execution_count": 63,
     "metadata": {},
     "output_type": "execute_result"
    }
   ],
   "source": [
    "# Grouping 'event_type' on give 'event_date'\n",
    "country_grouped_by_date = pd.DataFrame(data.groupby(['country', 'region', 'city'])['event_time'].count())\n",
    "country_grouped_by_date"
   ]
  },
  {
   "cell_type": "code",
   "execution_count": 64,
   "metadata": {},
   "outputs": [
    {
     "data": {
      "text/html": [
       "<div class='tableauPlaceholder' id='viz1567234726996' style='position: relative'><noscript><a href='https:&#47;&#47;public.tableau.com&#47;profile&#47;uzair2288#!&#47;vizhome&#47;FootballAnalytics_15672320323870&#47;Sheet4?publish=yes'><img alt=' ' src='https:&#47;&#47;public.tableau.com&#47;static&#47;images&#47;Fo&#47;FootballAnalytics_15672320323870&#47;UserCreationsw_r_tTime&#47;1_rss.png' style='border: none' /></a></noscript><object class='tableauViz'  style='display:none;'><param name='host_url' value='https%3A%2F%2Fpublic.tableau.com%2F' /> <param name='embed_code_version' value='3' /> <param name='site_root' value='' /><param name='name' value='FootballAnalytics_15672320323870&#47;UserCreationsw_r_tTime' /><param name='tabs' value='no' /><param name='toolbar' value='yes' /><param name='static_image' value='https:&#47;&#47;public.tableau.com&#47;static&#47;images&#47;Fo&#47;FootballAnalytics_15672320323870&#47;UserCreationsw_r_tTime&#47;1.png' /> <param name='animate_transition' value='yes' /><param name='display_static_image' value='yes' /><param name='display_spinner' value='yes' /><param name='display_overlay' value='yes' /><param name='display_count' value='yes' /><param name='filter' value='publish=yes' /></object></div>                <script type='text/javascript'>                    var divElement = document.getElementById('viz1567234726996');                    var vizElement = divElement.getElementsByTagName('object')[0];                    vizElement.style.width='100%';vizElement.style.height=(divElement.offsetWidth*0.75)+'px';                    var scriptElement = document.createElement('script');                    scriptElement.src = 'https://public.tableau.com/javascripts/api/viz_v1.js';                    vizElement.parentNode.insertBefore(scriptElement, vizElement);                </script>\n"
      ],
      "text/plain": [
       "<IPython.core.display.HTML object>"
      ]
     },
     "metadata": {},
     "output_type": "display_data"
    }
   ],
   "source": [
    "%%HTML\n",
    "<div class='tableauPlaceholder' id='viz1567234726996' style='position: relative'><noscript><a href='https:&#47;&#47;public.tableau.com&#47;profile&#47;uzair2288#!&#47;vizhome&#47;FootballAnalytics_15672320323870&#47;Sheet4?publish=yes'><img alt=' ' src='https:&#47;&#47;public.tableau.com&#47;static&#47;images&#47;Fo&#47;FootballAnalytics_15672320323870&#47;UserCreationsw_r_tTime&#47;1_rss.png' style='border: none' /></a></noscript><object class='tableauViz'  style='display:none;'><param name='host_url' value='https%3A%2F%2Fpublic.tableau.com%2F' /> <param name='embed_code_version' value='3' /> <param name='site_root' value='' /><param name='name' value='FootballAnalytics_15672320323870&#47;UserCreationsw_r_tTime' /><param name='tabs' value='no' /><param name='toolbar' value='yes' /><param name='static_image' value='https:&#47;&#47;public.tableau.com&#47;static&#47;images&#47;Fo&#47;FootballAnalytics_15672320323870&#47;UserCreationsw_r_tTime&#47;1.png' /> <param name='animate_transition' value='yes' /><param name='display_static_image' value='yes' /><param name='display_spinner' value='yes' /><param name='display_overlay' value='yes' /><param name='display_count' value='yes' /><param name='filter' value='publish=yes' /></object></div>                <script type='text/javascript'>                    var divElement = document.getElementById('viz1567234726996');                    var vizElement = divElement.getElementsByTagName('object')[0];                    vizElement.style.width='100%';vizElement.style.height=(divElement.offsetWidth*0.75)+'px';                    var scriptElement = document.createElement('script');                    scriptElement.src = 'https://public.tableau.com/javascripts/api/viz_v1.js';                    vizElement.parentNode.insertBefore(scriptElement, vizElement);                </script>"
   ]
  },
  {
   "cell_type": "markdown",
   "metadata": {},
   "source": [
    "## Deliverable #3: Advanced"
   ]
  },
  {
   "cell_type": "code",
   "execution_count": 65,
   "metadata": {},
   "outputs": [
    {
     "data": {
      "text/html": [
       "<div>\n",
       "<style scoped>\n",
       "    .dataframe tbody tr th:only-of-type {\n",
       "        vertical-align: middle;\n",
       "    }\n",
       "\n",
       "    .dataframe tbody tr th {\n",
       "        vertical-align: top;\n",
       "    }\n",
       "\n",
       "    .dataframe thead th {\n",
       "        text-align: right;\n",
       "    }\n",
       "</style>\n",
       "<table border=\"1\" class=\"dataframe\">\n",
       "  <thead>\n",
       "    <tr style=\"text-align: right;\">\n",
       "      <th></th>\n",
       "      <th></th>\n",
       "      <th>event_time</th>\n",
       "    </tr>\n",
       "    <tr>\n",
       "      <th>event_date</th>\n",
       "      <th>event_type</th>\n",
       "      <th></th>\n",
       "    </tr>\n",
       "  </thead>\n",
       "  <tbody>\n",
       "    <tr>\n",
       "      <th>2018-10-15</th>\n",
       "      <th>session_end</th>\n",
       "      <td>1</td>\n",
       "    </tr>\n",
       "    <tr>\n",
       "      <th>2018-10-17</th>\n",
       "      <th>session_end</th>\n",
       "      <td>2</td>\n",
       "    </tr>\n",
       "    <tr>\n",
       "      <th>2018-10-18</th>\n",
       "      <th>session_end</th>\n",
       "      <td>1</td>\n",
       "    </tr>\n",
       "    <tr>\n",
       "      <th>2018-10-20</th>\n",
       "      <th>session_end</th>\n",
       "      <td>1</td>\n",
       "    </tr>\n",
       "    <tr>\n",
       "      <th>2018-10-22</th>\n",
       "      <th>session_end</th>\n",
       "      <td>1</td>\n",
       "    </tr>\n",
       "    <tr>\n",
       "      <th>2018-10-23</th>\n",
       "      <th>session_end</th>\n",
       "      <td>1</td>\n",
       "    </tr>\n",
       "    <tr>\n",
       "      <th rowspan=\"2\" valign=\"top\">2018-10-24</th>\n",
       "      <th>session_end</th>\n",
       "      <td>3</td>\n",
       "    </tr>\n",
       "    <tr>\n",
       "      <th>session_start</th>\n",
       "      <td>1</td>\n",
       "    </tr>\n",
       "    <tr>\n",
       "      <th>2018-10-26</th>\n",
       "      <th>session_end</th>\n",
       "      <td>3</td>\n",
       "    </tr>\n",
       "    <tr>\n",
       "      <th>2018-10-27</th>\n",
       "      <th>session_end</th>\n",
       "      <td>5</td>\n",
       "    </tr>\n",
       "    <tr>\n",
       "      <th rowspan=\"3\" valign=\"top\">2018-10-28</th>\n",
       "      <th>JAFA Open</th>\n",
       "      <td>1</td>\n",
       "    </tr>\n",
       "    <tr>\n",
       "      <th>News Notification Tap</th>\n",
       "      <td>1</td>\n",
       "    </tr>\n",
       "    <tr>\n",
       "      <th>session_end</th>\n",
       "      <td>8</td>\n",
       "    </tr>\n",
       "    <tr>\n",
       "      <th rowspan=\"5\" valign=\"top\">2018-10-29</th>\n",
       "      <th>Article Open</th>\n",
       "      <td>1</td>\n",
       "    </tr>\n",
       "    <tr>\n",
       "      <th>JAFA Open</th>\n",
       "      <td>1</td>\n",
       "    </tr>\n",
       "    <tr>\n",
       "      <th>News Notification Tap</th>\n",
       "      <td>1</td>\n",
       "    </tr>\n",
       "    <tr>\n",
       "      <th>session_end</th>\n",
       "      <td>5</td>\n",
       "    </tr>\n",
       "    <tr>\n",
       "      <th>session_start</th>\n",
       "      <td>2</td>\n",
       "    </tr>\n",
       "    <tr>\n",
       "      <th rowspan=\"2\" valign=\"top\">2018-10-30</th>\n",
       "      <th>session_end</th>\n",
       "      <td>3</td>\n",
       "    </tr>\n",
       "    <tr>\n",
       "      <th>session_start</th>\n",
       "      <td>1</td>\n",
       "    </tr>\n",
       "    <tr>\n",
       "      <th rowspan=\"2\" valign=\"top\">2018-10-31</th>\n",
       "      <th>session_end</th>\n",
       "      <td>4</td>\n",
       "    </tr>\n",
       "    <tr>\n",
       "      <th>session_start</th>\n",
       "      <td>2</td>\n",
       "    </tr>\n",
       "    <tr>\n",
       "      <th>2018-11-01</th>\n",
       "      <th>session_end</th>\n",
       "      <td>5</td>\n",
       "    </tr>\n",
       "    <tr>\n",
       "      <th rowspan=\"2\" valign=\"top\">2018-11-02</th>\n",
       "      <th>session_end</th>\n",
       "      <td>10</td>\n",
       "    </tr>\n",
       "    <tr>\n",
       "      <th>session_start</th>\n",
       "      <td>2</td>\n",
       "    </tr>\n",
       "    <tr>\n",
       "      <th rowspan=\"2\" valign=\"top\">2018-11-03</th>\n",
       "      <th>session_end</th>\n",
       "      <td>10</td>\n",
       "    </tr>\n",
       "    <tr>\n",
       "      <th>session_start</th>\n",
       "      <td>3</td>\n",
       "    </tr>\n",
       "    <tr>\n",
       "      <th rowspan=\"2\" valign=\"top\">2018-11-04</th>\n",
       "      <th>session_end</th>\n",
       "      <td>5</td>\n",
       "    </tr>\n",
       "    <tr>\n",
       "      <th>session_start</th>\n",
       "      <td>2</td>\n",
       "    </tr>\n",
       "    <tr>\n",
       "      <th>2018-11-05</th>\n",
       "      <th>Article Open</th>\n",
       "      <td>1</td>\n",
       "    </tr>\n",
       "    <tr>\n",
       "      <th>...</th>\n",
       "      <th>...</th>\n",
       "      <td>...</td>\n",
       "    </tr>\n",
       "    <tr>\n",
       "      <th rowspan=\"3\" valign=\"top\">2019-01-30</th>\n",
       "      <th>Onboarding Step Opened</th>\n",
       "      <td>3</td>\n",
       "    </tr>\n",
       "    <tr>\n",
       "      <th>session_end</th>\n",
       "      <td>65</td>\n",
       "    </tr>\n",
       "    <tr>\n",
       "      <th>session_start</th>\n",
       "      <td>152</td>\n",
       "    </tr>\n",
       "    <tr>\n",
       "      <th rowspan=\"27\" valign=\"top\">2019-01-31</th>\n",
       "      <th>Add JAFA Button</th>\n",
       "      <td>16</td>\n",
       "    </tr>\n",
       "    <tr>\n",
       "      <th>Article Open</th>\n",
       "      <td>123</td>\n",
       "    </tr>\n",
       "    <tr>\n",
       "      <th>Changing \"Your Team\"</th>\n",
       "      <td>6</td>\n",
       "    </tr>\n",
       "    <tr>\n",
       "      <th>Click News Source</th>\n",
       "      <td>8</td>\n",
       "    </tr>\n",
       "    <tr>\n",
       "      <th>Deals</th>\n",
       "      <td>2</td>\n",
       "    </tr>\n",
       "    <tr>\n",
       "      <th>Dislike Article</th>\n",
       "      <td>5</td>\n",
       "    </tr>\n",
       "    <tr>\n",
       "      <th>Dislike Comment</th>\n",
       "      <td>1</td>\n",
       "    </tr>\n",
       "    <tr>\n",
       "      <th>Dislike JAFA</th>\n",
       "      <td>2</td>\n",
       "    </tr>\n",
       "    <tr>\n",
       "      <th>First Login</th>\n",
       "      <td>8</td>\n",
       "    </tr>\n",
       "    <tr>\n",
       "      <th>First Open</th>\n",
       "      <td>17</td>\n",
       "    </tr>\n",
       "    <tr>\n",
       "      <th>JAFA Comment</th>\n",
       "      <td>8</td>\n",
       "    </tr>\n",
       "    <tr>\n",
       "      <th>JAFA Open</th>\n",
       "      <td>74</td>\n",
       "    </tr>\n",
       "    <tr>\n",
       "      <th>Like Article</th>\n",
       "      <td>10</td>\n",
       "    </tr>\n",
       "    <tr>\n",
       "      <th>Like Comment</th>\n",
       "      <td>4</td>\n",
       "    </tr>\n",
       "    <tr>\n",
       "      <th>Like JAFA</th>\n",
       "      <td>2</td>\n",
       "    </tr>\n",
       "    <tr>\n",
       "      <th>Login</th>\n",
       "      <td>2</td>\n",
       "    </tr>\n",
       "    <tr>\n",
       "      <th>New Level</th>\n",
       "      <td>9</td>\n",
       "    </tr>\n",
       "    <tr>\n",
       "      <th>News Comment</th>\n",
       "      <td>2</td>\n",
       "    </tr>\n",
       "    <tr>\n",
       "      <th>News Notification Tap</th>\n",
       "      <td>47</td>\n",
       "    </tr>\n",
       "    <tr>\n",
       "      <th>News Setting Change</th>\n",
       "      <td>4</td>\n",
       "    </tr>\n",
       "    <tr>\n",
       "      <th>Onboarding Questions Completed</th>\n",
       "      <td>6</td>\n",
       "    </tr>\n",
       "    <tr>\n",
       "      <th>Onboarding Step Opened</th>\n",
       "      <td>18</td>\n",
       "    </tr>\n",
       "    <tr>\n",
       "      <th>Reports</th>\n",
       "      <td>1</td>\n",
       "    </tr>\n",
       "    <tr>\n",
       "      <th>Share JAFA</th>\n",
       "      <td>4</td>\n",
       "    </tr>\n",
       "    <tr>\n",
       "      <th>Share News</th>\n",
       "      <td>2</td>\n",
       "    </tr>\n",
       "    <tr>\n",
       "      <th>session_end</th>\n",
       "      <td>56</td>\n",
       "    </tr>\n",
       "    <tr>\n",
       "      <th>session_start</th>\n",
       "      <td>171</td>\n",
       "    </tr>\n",
       "  </tbody>\n",
       "</table>\n",
       "<p>1790 rows × 1 columns</p>\n",
       "</div>"
      ],
      "text/plain": [
       "                                           event_time\n",
       "event_date event_type                                \n",
       "2018-10-15 session_end                              1\n",
       "2018-10-17 session_end                              2\n",
       "2018-10-18 session_end                              1\n",
       "2018-10-20 session_end                              1\n",
       "2018-10-22 session_end                              1\n",
       "2018-10-23 session_end                              1\n",
       "2018-10-24 session_end                              3\n",
       "           session_start                            1\n",
       "2018-10-26 session_end                              3\n",
       "2018-10-27 session_end                              5\n",
       "2018-10-28 JAFA Open                                1\n",
       "           News Notification Tap                    1\n",
       "           session_end                              8\n",
       "2018-10-29 Article Open                             1\n",
       "           JAFA Open                                1\n",
       "           News Notification Tap                    1\n",
       "           session_end                              5\n",
       "           session_start                            2\n",
       "2018-10-30 session_end                              3\n",
       "           session_start                            1\n",
       "2018-10-31 session_end                              4\n",
       "           session_start                            2\n",
       "2018-11-01 session_end                              5\n",
       "2018-11-02 session_end                             10\n",
       "           session_start                            2\n",
       "2018-11-03 session_end                             10\n",
       "           session_start                            3\n",
       "2018-11-04 session_end                              5\n",
       "           session_start                            2\n",
       "2018-11-05 Article Open                             1\n",
       "...                                               ...\n",
       "2019-01-30 Onboarding Step Opened                   3\n",
       "           session_end                             65\n",
       "           session_start                          152\n",
       "2019-01-31 Add JAFA Button                         16\n",
       "           Article Open                           123\n",
       "           Changing \"Your Team\"                     6\n",
       "           Click News Source                        8\n",
       "           Deals                                    2\n",
       "           Dislike Article                          5\n",
       "           Dislike Comment                          1\n",
       "           Dislike JAFA                             2\n",
       "           First Login                              8\n",
       "           First Open                              17\n",
       "           JAFA Comment                             8\n",
       "           JAFA Open                               74\n",
       "           Like Article                            10\n",
       "           Like Comment                             4\n",
       "           Like JAFA                                2\n",
       "           Login                                    2\n",
       "           New Level                                9\n",
       "           News Comment                             2\n",
       "           News Notification Tap                   47\n",
       "           News Setting Change                      4\n",
       "           Onboarding Questions Completed           6\n",
       "           Onboarding Step Opened                  18\n",
       "           Reports                                  1\n",
       "           Share JAFA                               4\n",
       "           Share News                               2\n",
       "           session_end                             56\n",
       "           session_start                          171\n",
       "\n",
       "[1790 rows x 1 columns]"
      ]
     },
     "execution_count": 65,
     "metadata": {},
     "output_type": "execute_result"
    }
   ],
   "source": [
    "# Grouping 'event_type' on give 'event_date'\n",
    "events_grouped_by_date = pd.DataFrame(data.groupby(['event_date', 'event_type'])['event_time'].count())\n",
    "events_grouped_by_date"
   ]
  },
  {
   "cell_type": "markdown",
   "metadata": {},
   "source": [
    "#### 'Session' related Plots"
   ]
  },
  {
   "cell_type": "code",
   "execution_count": 66,
   "metadata": {},
   "outputs": [
    {
     "data": {
      "text/html": [
       "<div class='tableauPlaceholder' id='viz1567235740205' style='position: relative'><noscript><a href='https:&#47;&#47;public.tableau.com&#47;profile&#47;uzair2288#!&#47;vizhome&#47;FootballAnalytics_15672320323870&#47;Sheet4?publish=yes'><img alt=' ' src='https:&#47;&#47;public.tableau.com&#47;static&#47;images&#47;Fo&#47;FootballAnalytics_15672320323870&#47;SessionEventsw_r_tOS&#47;1_rss.png' style='border: none' /></a></noscript><object class='tableauViz'  style='display:none;'><param name='host_url' value='https%3A%2F%2Fpublic.tableau.com%2F' /> <param name='embed_code_version' value='3' /> <param name='site_root' value='' /><param name='name' value='FootballAnalytics_15672320323870&#47;SessionEventsw_r_tOS' /><param name='tabs' value='no' /><param name='toolbar' value='yes' /><param name='static_image' value='https:&#47;&#47;public.tableau.com&#47;static&#47;images&#47;Fo&#47;FootballAnalytics_15672320323870&#47;SessionEventsw_r_tOS&#47;1.png' /> <param name='animate_transition' value='yes' /><param name='display_static_image' value='yes' /><param name='display_spinner' value='yes' /><param name='display_overlay' value='yes' /><param name='display_count' value='yes' /></object></div>                <script type='text/javascript'>                    var divElement = document.getElementById('viz1567235740205');                    var vizElement = divElement.getElementsByTagName('object')[0];                    vizElement.style.width='100%';vizElement.style.height=(divElement.offsetWidth*0.75)+'px';                    var scriptElement = document.createElement('script');                    scriptElement.src = 'https://public.tableau.com/javascripts/api/viz_v1.js';                    vizElement.parentNode.insertBefore(scriptElement, vizElement);                </script>\n"
      ],
      "text/plain": [
       "<IPython.core.display.HTML object>"
      ]
     },
     "metadata": {},
     "output_type": "display_data"
    }
   ],
   "source": [
    "%%HTML\n",
    "<div class='tableauPlaceholder' id='viz1567235740205' style='position: relative'><noscript><a href='https:&#47;&#47;public.tableau.com&#47;profile&#47;uzair2288#!&#47;vizhome&#47;FootballAnalytics_15672320323870&#47;Sheet4?publish=yes'><img alt=' ' src='https:&#47;&#47;public.tableau.com&#47;static&#47;images&#47;Fo&#47;FootballAnalytics_15672320323870&#47;SessionEventsw_r_tOS&#47;1_rss.png' style='border: none' /></a></noscript><object class='tableauViz'  style='display:none;'><param name='host_url' value='https%3A%2F%2Fpublic.tableau.com%2F' /> <param name='embed_code_version' value='3' /> <param name='site_root' value='' /><param name='name' value='FootballAnalytics_15672320323870&#47;SessionEventsw_r_tOS' /><param name='tabs' value='no' /><param name='toolbar' value='yes' /><param name='static_image' value='https:&#47;&#47;public.tableau.com&#47;static&#47;images&#47;Fo&#47;FootballAnalytics_15672320323870&#47;SessionEventsw_r_tOS&#47;1.png' /> <param name='animate_transition' value='yes' /><param name='display_static_image' value='yes' /><param name='display_spinner' value='yes' /><param name='display_overlay' value='yes' /><param name='display_count' value='yes' /></object></div>                <script type='text/javascript'>                    var divElement = document.getElementById('viz1567235740205');                    var vizElement = divElement.getElementsByTagName('object')[0];                    vizElement.style.width='100%';vizElement.style.height=(divElement.offsetWidth*0.75)+'px';                    var scriptElement = document.createElement('script');                    scriptElement.src = 'https://public.tableau.com/javascripts/api/viz_v1.js';                    vizElement.parentNode.insertBefore(scriptElement, vizElement);                </script>"
   ]
  },
  {
   "cell_type": "markdown",
   "metadata": {},
   "source": [
    "#### Geographical Plots"
   ]
  },
  {
   "cell_type": "code",
   "execution_count": 67,
   "metadata": {},
   "outputs": [
    {
     "data": {
      "text/html": [
       "<div class='tableauPlaceholder' id='viz1567234237567' style='position: relative'><noscript><a href='https:&#47;&#47;public.tableau.com&#47;profile&#47;uzair2288#!&#47;vizhome&#47;FootballAnalytics_15672320323870&#47;Sheet4?publish=yes'><img alt=' ' src='https:&#47;&#47;public.tableau.com&#47;static&#47;images&#47;Fo&#47;FootballAnalytics_15672320323870&#47;NumberofEventsperRegion&#47;1_rss.png' style='border: none' /></a></noscript><object class='tableauViz'  style='display:none;'><param name='host_url' value='https%3A%2F%2Fpublic.tableau.com%2F' /> <param name='embed_code_version' value='3' /> <param name='site_root' value='' /><param name='name' value='FootballAnalytics_15672320323870&#47;NumberofEventsperRegion' /><param name='tabs' value='no' /><param name='toolbar' value='yes' /><param name='static_image' value='https:&#47;&#47;public.tableau.com&#47;static&#47;images&#47;Fo&#47;FootballAnalytics_15672320323870&#47;NumberofEventsperRegion&#47;1.png' /> <param name='animate_transition' value='yes' /><param name='display_static_image' value='yes' /><param name='display_spinner' value='yes' /><param name='display_overlay' value='yes' /><param name='display_count' value='yes' /></object></div>                <script type='text/javascript'>                    var divElement = document.getElementById('viz1567234237567');                    var vizElement = divElement.getElementsByTagName('object')[0];                    vizElement.style.width='100%';vizElement.style.height=(divElement.offsetWidth*0.75)+'px';                    var scriptElement = document.createElement('script');                    scriptElement.src = 'https://public.tableau.com/javascripts/api/viz_v1.js';                    vizElement.parentNode.insertBefore(scriptElement, vizElement);                </script>\n"
      ],
      "text/plain": [
       "<IPython.core.display.HTML object>"
      ]
     },
     "metadata": {},
     "output_type": "display_data"
    }
   ],
   "source": [
    "%%HTML\n",
    "<div class='tableauPlaceholder' id='viz1567234237567' style='position: relative'><noscript><a href='https:&#47;&#47;public.tableau.com&#47;profile&#47;uzair2288#!&#47;vizhome&#47;FootballAnalytics_15672320323870&#47;Sheet4?publish=yes'><img alt=' ' src='https:&#47;&#47;public.tableau.com&#47;static&#47;images&#47;Fo&#47;FootballAnalytics_15672320323870&#47;NumberofEventsperRegion&#47;1_rss.png' style='border: none' /></a></noscript><object class='tableauViz'  style='display:none;'><param name='host_url' value='https%3A%2F%2Fpublic.tableau.com%2F' /> <param name='embed_code_version' value='3' /> <param name='site_root' value='' /><param name='name' value='FootballAnalytics_15672320323870&#47;NumberofEventsperRegion' /><param name='tabs' value='no' /><param name='toolbar' value='yes' /><param name='static_image' value='https:&#47;&#47;public.tableau.com&#47;static&#47;images&#47;Fo&#47;FootballAnalytics_15672320323870&#47;NumberofEventsperRegion&#47;1.png' /> <param name='animate_transition' value='yes' /><param name='display_static_image' value='yes' /><param name='display_spinner' value='yes' /><param name='display_overlay' value='yes' /><param name='display_count' value='yes' /></object></div>                <script type='text/javascript'>                    var divElement = document.getElementById('viz1567234237567');                    var vizElement = divElement.getElementsByTagName('object')[0];                    vizElement.style.width='100%';vizElement.style.height=(divElement.offsetWidth*0.75)+'px';                    var scriptElement = document.createElement('script');                    scriptElement.src = 'https://public.tableau.com/javascripts/api/viz_v1.js';                    vizElement.parentNode.insertBefore(scriptElement, vizElement);                </script>"
   ]
  },
  {
   "cell_type": "code",
   "execution_count": 68,
   "metadata": {},
   "outputs": [
    {
     "data": {
      "text/html": [
       "<div class='tableauPlaceholder' id='viz1567233771958' style='position: relative'><noscript><a href='https:&#47;&#47;public.tableau.com&#47;profile&#47;uzair2288#!&#47;vizhome&#47;FootballAnalytics_15672320323870&#47;Sheet4?publish=yes'><img alt=' ' src='https:&#47;&#47;public.tableau.com&#47;static&#47;images&#47;Fo&#47;FootballAnalytics_15672320323870&#47;SessionEventsw_r_tLocation&#47;1_rss.png' style='border: none' /></a></noscript><object class='tableauViz'  style='display:none;'><param name='host_url' value='https%3A%2F%2Fpublic.tableau.com%2F' /> <param name='embed_code_version' value='3' /> <param name='site_root' value='' /><param name='name' value='FootballAnalytics_15672320323870&#47;SessionEventsw_r_tLocation' /><param name='tabs' value='no' /><param name='toolbar' value='yes' /><param name='static_image' value='https:&#47;&#47;public.tableau.com&#47;static&#47;images&#47;Fo&#47;FootballAnalytics_15672320323870&#47;SessionEventsw_r_tLocation&#47;1.png' /> <param name='animate_transition' value='yes' /><param name='display_static_image' value='yes' /><param name='display_spinner' value='yes' /><param name='display_overlay' value='yes' /><param name='display_count' value='yes' /></object></div>                <script type='text/javascript'>                    var divElement = document.getElementById('viz1567233771958');                    var vizElement = divElement.getElementsByTagName('object')[0];                    vizElement.style.width='100%';vizElement.style.height=(divElement.offsetWidth*0.75)+'px';                    var scriptElement = document.createElement('script');                    scriptElement.src = 'https://public.tableau.com/javascripts/api/viz_v1.js';                    vizElement.parentNode.insertBefore(scriptElement, vizElement);                </script>\n"
      ],
      "text/plain": [
       "<IPython.core.display.HTML object>"
      ]
     },
     "metadata": {},
     "output_type": "display_data"
    }
   ],
   "source": [
    "%%HTML\n",
    "<div class='tableauPlaceholder' id='viz1567233771958' style='position: relative'><noscript><a href='https:&#47;&#47;public.tableau.com&#47;profile&#47;uzair2288#!&#47;vizhome&#47;FootballAnalytics_15672320323870&#47;Sheet4?publish=yes'><img alt=' ' src='https:&#47;&#47;public.tableau.com&#47;static&#47;images&#47;Fo&#47;FootballAnalytics_15672320323870&#47;SessionEventsw_r_tLocation&#47;1_rss.png' style='border: none' /></a></noscript><object class='tableauViz'  style='display:none;'><param name='host_url' value='https%3A%2F%2Fpublic.tableau.com%2F' /> <param name='embed_code_version' value='3' /> <param name='site_root' value='' /><param name='name' value='FootballAnalytics_15672320323870&#47;SessionEventsw_r_tLocation' /><param name='tabs' value='no' /><param name='toolbar' value='yes' /><param name='static_image' value='https:&#47;&#47;public.tableau.com&#47;static&#47;images&#47;Fo&#47;FootballAnalytics_15672320323870&#47;SessionEventsw_r_tLocation&#47;1.png' /> <param name='animate_transition' value='yes' /><param name='display_static_image' value='yes' /><param name='display_spinner' value='yes' /><param name='display_overlay' value='yes' /><param name='display_count' value='yes' /></object></div>                <script type='text/javascript'>                    var divElement = document.getElementById('viz1567233771958');                    var vizElement = divElement.getElementsByTagName('object')[0];                    vizElement.style.width='100%';vizElement.style.height=(divElement.offsetWidth*0.75)+'px';                    var scriptElement = document.createElement('script');                    scriptElement.src = 'https://public.tableau.com/javascripts/api/viz_v1.js';                    vizElement.parentNode.insertBefore(scriptElement, vizElement);                </script>"
   ]
  }
 ],
 "metadata": {
  "kernelspec": {
   "display_name": "Python 3",
   "language": "python",
   "name": "python3"
  },
  "language_info": {
   "codemirror_mode": {
    "name": "ipython",
    "version": 3
   },
   "file_extension": ".py",
   "mimetype": "text/x-python",
   "name": "python",
   "nbconvert_exporter": "python",
   "pygments_lexer": "ipython3",
   "version": "3.7.3"
  }
 },
 "nbformat": 4,
 "nbformat_minor": 2
}
